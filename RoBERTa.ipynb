{
 "cells": [
  {
   "cell_type": "code",
   "execution_count": 200,
   "source": [
    "import torch\n",
    "import transformers\n",
    "from torch.utils.data import DataLoader\n",
    "import pandas as pd\n",
    "import numpy as np\n",
    "import os\n",
    "import random"
   ],
   "outputs": [],
   "metadata": {}
  },
  {
   "cell_type": "code",
   "execution_count": 2,
   "source": [
    "os.environ[\"CUDA_VISIBLE_DEVICES\"]=\"0\"\n",
    "\n",
    "device = torch.device(\"cuda\" if torch.cuda.is_available() else \"cpu\")\n",
    "print(f\"Using {device}\")"
   ],
   "outputs": [
    {
     "output_type": "stream",
     "name": "stdout",
     "text": [
      "Using cuda\n"
     ]
    }
   ],
   "metadata": {}
  },
  {
   "cell_type": "code",
   "execution_count": 3,
   "source": [
    "def seed_torch(seed=42):\n",
    "    random.seed(seed)\n",
    "    os.environ[\"PYTHONHASHSEED\"] = str(seed)\n",
    "    np.random.seed(seed)\n",
    "    torch.manual_seed(seed)\n",
    "    torch.cuda.manual_seed(seed)\n",
    "    torch.cuda.manual_seed_all(seed)\n",
    "    torch.backends.cudnn.deterministic = True\n",
    "\n",
    "seed = 471\n",
    "seed_torch(seed)"
   ],
   "outputs": [],
   "metadata": {}
  },
  {
   "cell_type": "code",
   "execution_count": 110,
   "source": [
    "class Hparams:\n",
    "    def __init__(self, data_dir, output_dir, batch_size, token_max_length):\n",
    "        self.data_dir = data_dir\n",
    "        self.output_dir = output_dir\n",
    "        self.batch_size = batch_size\n",
    "        self.token_max_length = token_max_length\n",
    "\n",
    "hps = Hparams(data_dir='./data', output_dir='./outputs', batch_size=64, token_max_length=256)"
   ],
   "outputs": [],
   "metadata": {}
  },
  {
   "cell_type": "code",
   "execution_count": 5,
   "source": [
    "train_df = pd.read_csv(os.path.join(hps.data_dir, 'train.csv'))\n",
    "test_df = pd.read_csv(os.path.join(hps.data_dir, 'test.csv'))\n",
    "sample_submit_df = pd.read_csv(os.path.join(hps.data_dir, 'sample_submit.csv'))"
   ],
   "outputs": [],
   "metadata": {}
  },
  {
   "cell_type": "code",
   "execution_count": 6,
   "source": [
    "train_df"
   ],
   "outputs": [
    {
     "output_type": "execute_result",
     "data": {
      "text/html": [
       "<div>\n",
       "<style scoped>\n",
       "    .dataframe tbody tr th:only-of-type {\n",
       "        vertical-align: middle;\n",
       "    }\n",
       "\n",
       "    .dataframe tbody tr th {\n",
       "        vertical-align: top;\n",
       "    }\n",
       "\n",
       "    .dataframe thead th {\n",
       "        text-align: right;\n",
       "    }\n",
       "</style>\n",
       "<table border=\"1\" class=\"dataframe\">\n",
       "  <thead>\n",
       "    <tr style=\"text-align: right;\">\n",
       "      <th></th>\n",
       "      <th>id</th>\n",
       "      <th>title</th>\n",
       "      <th>abstract</th>\n",
       "      <th>judgement</th>\n",
       "    </tr>\n",
       "  </thead>\n",
       "  <tbody>\n",
       "    <tr>\n",
       "      <th>0</th>\n",
       "      <td>0</td>\n",
       "      <td>One-year age changes in MRI brain volumes in o...</td>\n",
       "      <td>Longitudinal studies indicate that declines in...</td>\n",
       "      <td>0</td>\n",
       "    </tr>\n",
       "    <tr>\n",
       "      <th>1</th>\n",
       "      <td>1</td>\n",
       "      <td>Supportive CSF biomarker evidence to enhance t...</td>\n",
       "      <td>The present study was undertaken to validate t...</td>\n",
       "      <td>0</td>\n",
       "    </tr>\n",
       "    <tr>\n",
       "      <th>2</th>\n",
       "      <td>2</td>\n",
       "      <td>Occurrence of basal ganglia germ cell tumors w...</td>\n",
       "      <td>Objective: To report a case series in which ba...</td>\n",
       "      <td>0</td>\n",
       "    </tr>\n",
       "    <tr>\n",
       "      <th>3</th>\n",
       "      <td>3</td>\n",
       "      <td>New developments in diagnosis and therapy of C...</td>\n",
       "      <td>The etiology and pathogenesis of idiopathic ch...</td>\n",
       "      <td>0</td>\n",
       "    </tr>\n",
       "    <tr>\n",
       "      <th>4</th>\n",
       "      <td>4</td>\n",
       "      <td>Prolonged shedding of SARS-CoV-2 in an elderly...</td>\n",
       "      <td>NaN</td>\n",
       "      <td>0</td>\n",
       "    </tr>\n",
       "    <tr>\n",
       "      <th>...</th>\n",
       "      <td>...</td>\n",
       "      <td>...</td>\n",
       "      <td>...</td>\n",
       "      <td>...</td>\n",
       "    </tr>\n",
       "    <tr>\n",
       "      <th>27140</th>\n",
       "      <td>27140</td>\n",
       "      <td>The amyloidogenic pathway of amyloid precursor...</td>\n",
       "      <td>Amyloid beta-protein (A beta) is the main cons...</td>\n",
       "      <td>0</td>\n",
       "    </tr>\n",
       "    <tr>\n",
       "      <th>27141</th>\n",
       "      <td>27141</td>\n",
       "      <td>Technologic developments in radiotherapy and s...</td>\n",
       "      <td>We present a review of current technological p...</td>\n",
       "      <td>0</td>\n",
       "    </tr>\n",
       "    <tr>\n",
       "      <th>27142</th>\n",
       "      <td>27142</td>\n",
       "      <td>Novel screening cascade identifies MKK4 as key...</td>\n",
       "      <td>Phosphorylation of Tau at serine 422 promotes ...</td>\n",
       "      <td>0</td>\n",
       "    </tr>\n",
       "    <tr>\n",
       "      <th>27143</th>\n",
       "      <td>27143</td>\n",
       "      <td>Visualization of the gall bladder on F-18 FDOP...</td>\n",
       "      <td>The ability to label dihydroxyphenylalanine (D...</td>\n",
       "      <td>0</td>\n",
       "    </tr>\n",
       "    <tr>\n",
       "      <th>27144</th>\n",
       "      <td>27144</td>\n",
       "      <td>Multidetector CT findings and differential dia...</td>\n",
       "      <td>OBJECTIVE: To compare the multidetector CT (MD...</td>\n",
       "      <td>0</td>\n",
       "    </tr>\n",
       "  </tbody>\n",
       "</table>\n",
       "<p>27145 rows × 4 columns</p>\n",
       "</div>"
      ],
      "text/plain": [
       "          id                                              title  \\\n",
       "0          0  One-year age changes in MRI brain volumes in o...   \n",
       "1          1  Supportive CSF biomarker evidence to enhance t...   \n",
       "2          2  Occurrence of basal ganglia germ cell tumors w...   \n",
       "3          3  New developments in diagnosis and therapy of C...   \n",
       "4          4  Prolonged shedding of SARS-CoV-2 in an elderly...   \n",
       "...      ...                                                ...   \n",
       "27140  27140  The amyloidogenic pathway of amyloid precursor...   \n",
       "27141  27141  Technologic developments in radiotherapy and s...   \n",
       "27142  27142  Novel screening cascade identifies MKK4 as key...   \n",
       "27143  27143  Visualization of the gall bladder on F-18 FDOP...   \n",
       "27144  27144  Multidetector CT findings and differential dia...   \n",
       "\n",
       "                                                abstract  judgement  \n",
       "0      Longitudinal studies indicate that declines in...          0  \n",
       "1      The present study was undertaken to validate t...          0  \n",
       "2      Objective: To report a case series in which ba...          0  \n",
       "3      The etiology and pathogenesis of idiopathic ch...          0  \n",
       "4                                                    NaN          0  \n",
       "...                                                  ...        ...  \n",
       "27140  Amyloid beta-protein (A beta) is the main cons...          0  \n",
       "27141  We present a review of current technological p...          0  \n",
       "27142  Phosphorylation of Tau at serine 422 promotes ...          0  \n",
       "27143  The ability to label dihydroxyphenylalanine (D...          0  \n",
       "27144  OBJECTIVE: To compare the multidetector CT (MD...          0  \n",
       "\n",
       "[27145 rows x 4 columns]"
      ]
     },
     "metadata": {},
     "execution_count": 6
    }
   ],
   "metadata": {}
  },
  {
   "cell_type": "code",
   "execution_count": 84,
   "source": [
    "train_df.isna().sum()"
   ],
   "outputs": [
    {
     "output_type": "execute_result",
     "data": {
      "text/plain": [
       "id              0\n",
       "title           0\n",
       "abstract     4390\n",
       "judgement       0\n",
       "dtype: int64"
      ]
     },
     "metadata": {},
     "execution_count": 84
    }
   ],
   "metadata": {}
  },
  {
   "cell_type": "code",
   "execution_count": 48,
   "source": [
    "base_tokenizer = transformers.AutoTokenizer.from_pretrained(\"allenai/biomed_roberta_base\")\n",
    "base_model = transformers.BertForSequenceClassification.from_pretrained(\"allenai/biomed_roberta_base\", num_labels=1)\n",
    "configuration = model.config"
   ],
   "outputs": [
    {
     "output_type": "stream",
     "name": "stderr",
     "text": [
      "Some weights of the model checkpoint at allenai/biomed_roberta_base were not used when initializing RobertaModel: ['lm_head.bias', 'lm_head.layer_norm.bias', 'lm_head.dense.bias', 'lm_head.layer_norm.weight', 'lm_head.decoder.weight', 'lm_head.dense.weight']\n",
      "- This IS expected if you are initializing RobertaModel from the checkpoint of a model trained on another task or with another architecture (e.g. initializing a BertForSequenceClassification model from a BertForPreTraining model).\n",
      "- This IS NOT expected if you are initializing RobertaModel from the checkpoint of a model that you expect to be exactly identical (initializing a BertForSequenceClassification model from a BertForSequenceClassification model).\n"
     ]
    }
   ],
   "metadata": {}
  },
  {
   "cell_type": "code",
   "execution_count": 9,
   "source": [
    "print(configuration)"
   ],
   "outputs": [
    {
     "output_type": "stream",
     "name": "stdout",
     "text": [
      "RobertaConfig {\n",
      "  \"_name_or_path\": \"allenai/biomed_roberta_base\",\n",
      "  \"attention_probs_dropout_prob\": 0.1,\n",
      "  \"bos_token_id\": 0,\n",
      "  \"classifier_dropout\": null,\n",
      "  \"eos_token_id\": 2,\n",
      "  \"gradient_checkpointing\": false,\n",
      "  \"hidden_act\": \"gelu\",\n",
      "  \"hidden_dropout_prob\": 0.1,\n",
      "  \"hidden_size\": 768,\n",
      "  \"initializer_range\": 0.02,\n",
      "  \"intermediate_size\": 3072,\n",
      "  \"layer_norm_eps\": 1e-05,\n",
      "  \"max_position_embeddings\": 514,\n",
      "  \"model_type\": \"roberta\",\n",
      "  \"num_attention_heads\": 12,\n",
      "  \"num_hidden_layers\": 12,\n",
      "  \"pad_token_id\": 1,\n",
      "  \"position_embedding_type\": \"absolute\",\n",
      "  \"transformers_version\": \"4.10.2\",\n",
      "  \"type_vocab_size\": 1,\n",
      "  \"use_cache\": true,\n",
      "  \"vocab_size\": 50265\n",
      "}\n",
      "\n"
     ]
    }
   ],
   "metadata": {}
  },
  {
   "cell_type": "markdown",
   "source": [
    "## Dataset"
   ],
   "metadata": {}
  },
  {
   "cell_type": "code",
   "execution_count": 177,
   "source": [
    "class TextClassificationDataset(torch.utils.data.Dataset):\n",
    "    def __init__(self, df, tokenizer, token_max_length=512):\n",
    "        self.df = df\n",
    "        self.tokenizer = tokenizer\n",
    "        self.title_tokenized = tokenizer.batch_encode_plus(\n",
    "            df.title.to_list(),\n",
    "            padding = 'max_length',            \n",
    "            max_length = token_max_length,\n",
    "            truncation = True,\n",
    "            return_attention_mask=True,\n",
    "            return_tensors='pt'\n",
    "        )\n",
    "\n",
    "    def __len__(self):\n",
    "        return len(self.df)\n",
    "\n",
    "    def __getitem__(self, idx):\n",
    "        title = dict(\n",
    "            input_ids=self.title_tokenized['input_ids'][idx],\n",
    "            attention_mask=self.title_tokenized['attention_mask'][idx]\n",
    "        )\n",
    "        label = torch.tensor(self.df.loc[idx, 'judgement'], dtype=torch.int8)\n",
    "        return title, label\n",
    "        "
   ],
   "outputs": [],
   "metadata": {}
  },
  {
   "cell_type": "code",
   "execution_count": 182,
   "source": [
    "train_ds = TextClassificationDataset(df=train_df, tokenizer=base_tokenizer, token_max_length=hps.token_max_length)\n",
    "token, label = train_ds[0]\n",
    "print(token['input_ids'].shape)\n",
    "print(token['input_ids'].shape)\n",
    "print(label)"
   ],
   "outputs": [
    {
     "output_type": "stream",
     "name": "stdout",
     "text": [
      "torch.Size([256])\n",
      "torch.Size([256])\n",
      "tensor(0, dtype=torch.int8)\n"
     ]
    }
   ],
   "metadata": {}
  },
  {
   "cell_type": "markdown",
   "source": [
    "## DataLoader"
   ],
   "metadata": {}
  },
  {
   "cell_type": "code",
   "execution_count": 183,
   "source": [
    "train_dl = torch.utils.data.DataLoader(train_ds, batch_size=hps.batch_size, shuffle=True)"
   ],
   "outputs": [],
   "metadata": {}
  },
  {
   "cell_type": "code",
   "execution_count": 191,
   "source": [
    "inputs, labels = next(iter(train_dl))\n",
    "print(inputs['input_ids'].shape)\n",
    "print(inputs['attention_mask'].shape)\n",
    "print(labels)"
   ],
   "outputs": [
    {
     "output_type": "stream",
     "name": "stdout",
     "text": [
      "torch.Size([64, 256])\n",
      "torch.Size([64, 256])\n",
      "tensor([0, 0, 0, 0, 0, 0, 0, 0, 0, 0, 0, 0, 0, 0, 0, 0, 0, 0, 0, 0, 0, 0, 0, 0,\n",
      "        0, 0, 0, 0, 0, 0, 0, 0, 0, 0, 0, 0, 0, 0, 0, 0, 0, 0, 0, 0, 0, 0, 0, 0,\n",
      "        0, 0, 0, 0, 0, 0, 0, 0, 0, 0, 0, 0, 0, 0, 0, 0], dtype=torch.int8)\n"
     ]
    }
   ],
   "metadata": {}
  },
  {
   "cell_type": "markdown",
   "source": [
    "## Model"
   ],
   "metadata": {}
  },
  {
   "cell_type": "code",
   "execution_count": 193,
   "source": [
    "class TextClassificationModel(torch.nn.Module):\n",
    "    def __init__(self, base_model):\n",
    "        super().__init__()\n",
    "        self.base_model = base_model\n",
    "    \n",
    "    def forward(self, input_ids, attention_mask):\n",
    "        out = self.base_model(input_ids=input_ids, attention_mask=attention_mask)\n",
    "        return out"
   ],
   "outputs": [],
   "metadata": {}
  },
  {
   "cell_type": "code",
   "execution_count": 194,
   "source": [
    "model = TextClassificationModel(base_model=base_model)"
   ],
   "outputs": [],
   "metadata": {}
  },
  {
   "cell_type": "code",
   "execution_count": 197,
   "source": [
    "outputs = model(input_ids=inputs['input_ids'], attention_mask=inputs['attention_mask'])"
   ],
   "outputs": [],
   "metadata": {}
  },
  {
   "cell_type": "code",
   "execution_count": 198,
   "source": [
    "print(outputs)"
   ],
   "outputs": [
    {
     "output_type": "stream",
     "name": "stdout",
     "text": [
      "BaseModelOutputWithPoolingAndCrossAttentions(last_hidden_state=tensor([[[-4.3194e-02,  1.1181e-01, -6.5627e-02,  ..., -2.0005e-01,\n",
      "          -5.9042e-03, -6.2817e-02],\n",
      "         [-2.0745e-01,  1.5751e-01, -1.6291e-01,  ..., -4.3243e-01,\n",
      "          -1.3206e-01,  3.3198e-01],\n",
      "         [-1.8083e-01,  4.1004e-02,  7.3151e-02,  ..., -3.1200e-01,\n",
      "          -6.8425e-02,  4.3357e-01],\n",
      "         ...,\n",
      "         [-6.9608e-05, -1.3627e-01,  1.6160e-01,  ..., -1.5264e-01,\n",
      "           1.2920e-02,  1.6599e-02],\n",
      "         [-6.9608e-05, -1.3627e-01,  1.6160e-01,  ..., -1.5264e-01,\n",
      "           1.2920e-02,  1.6599e-02],\n",
      "         [-6.9608e-05, -1.3627e-01,  1.6160e-01,  ..., -1.5264e-01,\n",
      "           1.2920e-02,  1.6599e-02]],\n",
      "\n",
      "        [[-4.2200e-02,  1.1607e-01, -1.5275e-02,  ..., -1.4232e-01,\n",
      "          -6.3146e-02, -9.6721e-02],\n",
      "         [-9.4649e-02,  2.7217e-02,  7.5241e-02,  ...,  9.6108e-02,\n",
      "           1.5575e-01,  5.9891e-02],\n",
      "         [ 1.8918e-01,  3.9893e-01, -6.5476e-03,  ...,  2.2967e-01,\n",
      "           8.6739e-02, -1.9494e-01],\n",
      "         ...,\n",
      "         [-8.8811e-03, -8.9988e-02,  1.6410e-01,  ..., -4.4468e-02,\n",
      "          -9.3434e-03, -7.2242e-02],\n",
      "         [-8.8811e-03, -8.9988e-02,  1.6410e-01,  ..., -4.4468e-02,\n",
      "          -9.3434e-03, -7.2242e-02],\n",
      "         [-8.8811e-03, -8.9988e-02,  1.6410e-01,  ..., -4.4468e-02,\n",
      "          -9.3434e-03, -7.2242e-02]],\n",
      "\n",
      "        [[-9.6152e-02,  1.2795e-01, -3.5792e-02,  ..., -2.2546e-01,\n",
      "          -1.0460e-01, -5.2699e-02],\n",
      "         [-1.1010e-01, -1.2652e-02, -1.0872e-01,  ..., -2.2226e-01,\n",
      "          -2.4117e-01,  1.2637e-01],\n",
      "         [-1.0423e-01,  2.3365e-02, -1.0743e-01,  ..., -4.3476e-01,\n",
      "          -1.4342e-01, -5.1720e-02],\n",
      "         ...,\n",
      "         [ 4.2985e-02, -1.0790e-01,  2.2069e-01,  ..., -1.2144e-02,\n",
      "          -2.8748e-02,  4.0059e-02],\n",
      "         [ 4.2985e-02, -1.0790e-01,  2.2069e-01,  ..., -1.2144e-02,\n",
      "          -2.8748e-02,  4.0059e-02],\n",
      "         [ 4.2985e-02, -1.0790e-01,  2.2069e-01,  ..., -1.2144e-02,\n",
      "          -2.8748e-02,  4.0059e-02]],\n",
      "\n",
      "        ...,\n",
      "\n",
      "        [[-3.2308e-02,  1.1772e-01,  1.1098e-03,  ..., -2.1301e-01,\n",
      "          -3.9735e-02, -4.8896e-02],\n",
      "         [ 1.0455e-01,  2.5929e-01,  2.2550e-01,  ..., -5.6622e-01,\n",
      "           3.0569e-01,  2.3320e-01],\n",
      "         [-2.6539e-02,  1.4746e-01, -1.6609e-01,  ..., -5.4246e-02,\n",
      "          -1.8210e-02,  7.8153e-02],\n",
      "         ...,\n",
      "         [ 3.7131e-02,  3.1595e-02,  1.7199e-01,  ..., -2.7411e-01,\n",
      "           9.5988e-02, -5.8505e-02],\n",
      "         [ 3.7131e-02,  3.1595e-02,  1.7199e-01,  ..., -2.7411e-01,\n",
      "           9.5988e-02, -5.8505e-02],\n",
      "         [ 3.7131e-02,  3.1595e-02,  1.7199e-01,  ..., -2.7411e-01,\n",
      "           9.5988e-02, -5.8505e-02]],\n",
      "\n",
      "        [[-5.8603e-02,  3.6663e-02, -7.1746e-02,  ..., -1.2602e-01,\n",
      "          -5.3193e-03, -4.9568e-02],\n",
      "         [-1.1753e-01, -2.4536e-01, -4.8898e-02,  ..., -3.1650e-01,\n",
      "           3.0189e-02,  3.6262e-01],\n",
      "         [-1.0796e-01, -6.1374e-02, -1.2262e-01,  ...,  4.9436e-02,\n",
      "           1.5828e-01,  2.2771e-01],\n",
      "         ...,\n",
      "         [-1.4423e-01, -5.1478e-01,  1.7758e-01,  ..., -3.3182e-01,\n",
      "           1.9181e-01,  9.3816e-03],\n",
      "         [-1.4423e-01, -5.1478e-01,  1.7758e-01,  ..., -3.3182e-01,\n",
      "           1.9181e-01,  9.3816e-03],\n",
      "         [-1.4423e-01, -5.1478e-01,  1.7758e-01,  ..., -3.3182e-01,\n",
      "           1.9181e-01,  9.3816e-03]],\n",
      "\n",
      "        [[-7.0341e-03,  2.0297e-01, -6.3316e-02,  ..., -1.0676e-01,\n",
      "          -2.7682e-03, -1.0778e-01],\n",
      "         [ 5.6030e-02, -5.1266e-03,  7.4137e-02,  ..., -8.2026e-02,\n",
      "           2.1483e-01, -4.3107e-01],\n",
      "         [ 5.7976e-02,  2.1229e-01, -7.8863e-02,  ..., -2.3428e-02,\n",
      "           1.4811e-01, -1.4044e-01],\n",
      "         ...,\n",
      "         [ 1.0763e-01, -3.1378e-02,  3.2897e-02,  ..., -9.4352e-02,\n",
      "           4.2753e-03, -1.0645e-01],\n",
      "         [ 1.0763e-01, -3.1378e-02,  3.2897e-02,  ..., -9.4352e-02,\n",
      "           4.2753e-03, -1.0645e-01],\n",
      "         [ 1.0763e-01, -3.1378e-02,  3.2897e-02,  ..., -9.4352e-02,\n",
      "           4.2753e-03, -1.0645e-01]]], grad_fn=<NativeLayerNormBackward>), pooler_output=tensor([[ 0.0047, -0.2086, -0.2839,  ..., -0.1368, -0.0622, -0.0861],\n",
      "        [ 0.0006, -0.2284, -0.3070,  ..., -0.1035, -0.0603, -0.0821],\n",
      "        [-0.0171, -0.2261, -0.2906,  ..., -0.1029, -0.0424, -0.0979],\n",
      "        ...,\n",
      "        [-0.0013, -0.2492, -0.2911,  ..., -0.1073, -0.0449, -0.0841],\n",
      "        [-0.0317, -0.1886, -0.2897,  ..., -0.0964, -0.0774, -0.1059],\n",
      "        [ 0.0165, -0.2059, -0.2851,  ..., -0.0930,  0.0057, -0.0481]],\n",
      "       grad_fn=<TanhBackward>), hidden_states=None, past_key_values=None, attentions=None, cross_attentions=None)\n"
     ]
    }
   ],
   "metadata": {}
  },
  {
   "cell_type": "code",
   "execution_count": null,
   "source": [],
   "outputs": [],
   "metadata": {}
  }
 ],
 "metadata": {
  "orig_nbformat": 4,
  "language_info": {
   "name": "python",
   "version": "3.9.7",
   "mimetype": "text/x-python",
   "codemirror_mode": {
    "name": "ipython",
    "version": 3
   },
   "pygments_lexer": "ipython3",
   "nbconvert_exporter": "python",
   "file_extension": ".py"
  },
  "kernelspec": {
   "name": "python3",
   "display_name": "Python 3.9.7 64-bit ('srws': conda)"
  },
  "interpreter": {
   "hash": "7f2d3241de56b0fa9ccb32ec1dbd92e097a59df5b8abdff3a1f1414152af23a6"
  }
 },
 "nbformat": 4,
 "nbformat_minor": 2
}