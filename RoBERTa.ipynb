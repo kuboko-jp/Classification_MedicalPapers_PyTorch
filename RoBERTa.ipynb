{
 "cells": [
  {
   "cell_type": "code",
   "execution_count": 1,
   "source": [
    "import torch\n",
    "from torch import nn\n",
    "from torch.nn import functional as F\n",
    "from torch.utils.data import DataLoader\n",
    "from torch.utils.data import Dataset\n",
    "from torch import optim\n",
    "from torch.optim import lr_scheduler\n",
    "\n",
    "import transformers\n",
    "from transformers.optimization import Adafactor, AdafactorSchedule\n",
    "\n",
    "from sklearn.metrics import fbeta_score\n",
    "from sklearn.metrics import confusion_matrix\n",
    "from sklearn.model_selection import train_test_split\n",
    "\n",
    "import pandas as pd\n",
    "import numpy as np\n",
    "import os\n",
    "import random\n",
    "import time\n",
    "from tqdm.notebook import tqdm\n",
    "import datetime as dt\n",
    "import copy\n",
    "import matplotlib.pyplot as plt\n"
   ],
   "outputs": [],
   "metadata": {}
  },
  {
   "cell_type": "code",
   "execution_count": 2,
   "source": [
    "os.environ[\"CUDA_VISIBLE_DEVICES\"]='1,2,3,4'\n",
    "\n",
    "device = torch.device(\"cuda\" if torch.cuda.is_available() else \"cpu\")\n",
    "print(f\"Using {device}\")"
   ],
   "outputs": [
    {
     "output_type": "stream",
     "name": "stdout",
     "text": [
      "Using cuda\n"
     ]
    }
   ],
   "metadata": {}
  },
  {
   "cell_type": "code",
   "execution_count": 3,
   "source": [
    "model_name_dict = {\n",
    "    \"PubMedBERT\": \"microsoft/BiomedNLP-PubMedBERT-base-uncased-abstract-fulltext\",\n",
    "    \"biomed_roberta_base\": \"allenai/biomed_roberta_base\",\n",
    "    \"Bio_ClinicalBERT\":\"emilyalsentzer/Bio_ClinicalBERT\",\n",
    "}"
   ],
   "outputs": [],
   "metadata": {}
  },
  {
   "cell_type": "code",
   "execution_count": 4,
   "source": [
    "class Hparams:\n",
    "    def __init__(self):\n",
    "        self.random_seed = 2021\n",
    "        self.data_dir = './data'\n",
    "        self.output_dir = './outputs'\n",
    "        self.batch_size = 256\n",
    "        self.token_max_length = 256\n",
    "        self.model_name = model_name_dict['PubMedBERT']\n",
    "        self.num_epochs = 15\n",
    "        self.class_1_weight =150\n",
    "        self.initial_lr = 3e-5  # 2e-5\n",
    "        self.model_type = 'lstm'  # cnn, lstm\n",
    "        self.upsample_pos_n = 1\n",
    "        self.use_col = 'title_abstract'  # title, abstract, title_abstract\n",
    "        self.train_argument = True\n",
    "\n",
    "hps = Hparams()"
   ],
   "outputs": [],
   "metadata": {}
  },
  {
   "cell_type": "code",
   "execution_count": 5,
   "source": [
    "def seed_torch(seed:int):\n",
    "    os.environ[\"PYTHONHASHSEED\"] = str(seed)\n",
    "    np.random.seed(seed)\n",
    "    random.seed(seed)\n",
    "    torch.manual_seed(seed)\n",
    "    torch.cuda.manual_seed(seed)\n",
    "    torch.cuda.manual_seed_all(seed)\n",
    "    torch.backends.cudnn.deterministic = True\n",
    "\n",
    "seed_torch(hps.random_seed)"
   ],
   "outputs": [],
   "metadata": {}
  },
  {
   "cell_type": "code",
   "execution_count": null,
   "source": [],
   "outputs": [],
   "metadata": {}
  },
  {
   "cell_type": "markdown",
   "source": [
    "## Dataframe"
   ],
   "metadata": {}
  },
  {
   "cell_type": "code",
   "execution_count": 6,
   "source": [
    "orig_df = pd.read_csv(os.path.join(hps.data_dir, 'train.csv'), index_col=0)\n",
    "submit_df = pd.read_csv(os.path.join(hps.data_dir, 'test.csv'), index_col=0)\n",
    "sample_submit_df = pd.read_csv(os.path.join(hps.data_dir, 'sample_submit.csv'), index_col=0)"
   ],
   "outputs": [],
   "metadata": {}
  },
  {
   "cell_type": "code",
   "execution_count": 7,
   "source": [
    "# 修正\n",
    "orig_df.loc[2488, 'judgement'] = 0\n",
    "orig_df.loc[7708, 'judgement'] = 0"
   ],
   "outputs": [],
   "metadata": {}
  },
  {
   "cell_type": "code",
   "execution_count": 8,
   "source": [
    "orig_df['abstract'].fillna('', inplace=True)\n",
    "orig_df['title_abstract'] = orig_df.title + orig_df.abstract\n",
    "display(orig_df)\n",
    "display(orig_df.isna().sum())"
   ],
   "outputs": [
    {
     "output_type": "display_data",
     "data": {
      "text/html": [
       "<div>\n",
       "<style scoped>\n",
       "    .dataframe tbody tr th:only-of-type {\n",
       "        vertical-align: middle;\n",
       "    }\n",
       "\n",
       "    .dataframe tbody tr th {\n",
       "        vertical-align: top;\n",
       "    }\n",
       "\n",
       "    .dataframe thead th {\n",
       "        text-align: right;\n",
       "    }\n",
       "</style>\n",
       "<table border=\"1\" class=\"dataframe\">\n",
       "  <thead>\n",
       "    <tr style=\"text-align: right;\">\n",
       "      <th></th>\n",
       "      <th>title</th>\n",
       "      <th>abstract</th>\n",
       "      <th>judgement</th>\n",
       "      <th>title_abstract</th>\n",
       "    </tr>\n",
       "    <tr>\n",
       "      <th>id</th>\n",
       "      <th></th>\n",
       "      <th></th>\n",
       "      <th></th>\n",
       "      <th></th>\n",
       "    </tr>\n",
       "  </thead>\n",
       "  <tbody>\n",
       "    <tr>\n",
       "      <th>0</th>\n",
       "      <td>One-year age changes in MRI brain volumes in o...</td>\n",
       "      <td>Longitudinal studies indicate that declines in...</td>\n",
       "      <td>0</td>\n",
       "      <td>One-year age changes in MRI brain volumes in o...</td>\n",
       "    </tr>\n",
       "    <tr>\n",
       "      <th>1</th>\n",
       "      <td>Supportive CSF biomarker evidence to enhance t...</td>\n",
       "      <td>The present study was undertaken to validate t...</td>\n",
       "      <td>0</td>\n",
       "      <td>Supportive CSF biomarker evidence to enhance t...</td>\n",
       "    </tr>\n",
       "    <tr>\n",
       "      <th>2</th>\n",
       "      <td>Occurrence of basal ganglia germ cell tumors w...</td>\n",
       "      <td>Objective: To report a case series in which ba...</td>\n",
       "      <td>0</td>\n",
       "      <td>Occurrence of basal ganglia germ cell tumors w...</td>\n",
       "    </tr>\n",
       "    <tr>\n",
       "      <th>3</th>\n",
       "      <td>New developments in diagnosis and therapy of C...</td>\n",
       "      <td>The etiology and pathogenesis of idiopathic ch...</td>\n",
       "      <td>0</td>\n",
       "      <td>New developments in diagnosis and therapy of C...</td>\n",
       "    </tr>\n",
       "    <tr>\n",
       "      <th>4</th>\n",
       "      <td>Prolonged shedding of SARS-CoV-2 in an elderly...</td>\n",
       "      <td></td>\n",
       "      <td>0</td>\n",
       "      <td>Prolonged shedding of SARS-CoV-2 in an elderly...</td>\n",
       "    </tr>\n",
       "    <tr>\n",
       "      <th>...</th>\n",
       "      <td>...</td>\n",
       "      <td>...</td>\n",
       "      <td>...</td>\n",
       "      <td>...</td>\n",
       "    </tr>\n",
       "    <tr>\n",
       "      <th>27140</th>\n",
       "      <td>The amyloidogenic pathway of amyloid precursor...</td>\n",
       "      <td>Amyloid beta-protein (A beta) is the main cons...</td>\n",
       "      <td>0</td>\n",
       "      <td>The amyloidogenic pathway of amyloid precursor...</td>\n",
       "    </tr>\n",
       "    <tr>\n",
       "      <th>27141</th>\n",
       "      <td>Technologic developments in radiotherapy and s...</td>\n",
       "      <td>We present a review of current technological p...</td>\n",
       "      <td>0</td>\n",
       "      <td>Technologic developments in radiotherapy and s...</td>\n",
       "    </tr>\n",
       "    <tr>\n",
       "      <th>27142</th>\n",
       "      <td>Novel screening cascade identifies MKK4 as key...</td>\n",
       "      <td>Phosphorylation of Tau at serine 422 promotes ...</td>\n",
       "      <td>0</td>\n",
       "      <td>Novel screening cascade identifies MKK4 as key...</td>\n",
       "    </tr>\n",
       "    <tr>\n",
       "      <th>27143</th>\n",
       "      <td>Visualization of the gall bladder on F-18 FDOP...</td>\n",
       "      <td>The ability to label dihydroxyphenylalanine (D...</td>\n",
       "      <td>0</td>\n",
       "      <td>Visualization of the gall bladder on F-18 FDOP...</td>\n",
       "    </tr>\n",
       "    <tr>\n",
       "      <th>27144</th>\n",
       "      <td>Multidetector CT findings and differential dia...</td>\n",
       "      <td>OBJECTIVE: To compare the multidetector CT (MD...</td>\n",
       "      <td>0</td>\n",
       "      <td>Multidetector CT findings and differential dia...</td>\n",
       "    </tr>\n",
       "  </tbody>\n",
       "</table>\n",
       "<p>27145 rows × 4 columns</p>\n",
       "</div>"
      ],
      "text/plain": [
       "                                                   title  \\\n",
       "id                                                         \n",
       "0      One-year age changes in MRI brain volumes in o...   \n",
       "1      Supportive CSF biomarker evidence to enhance t...   \n",
       "2      Occurrence of basal ganglia germ cell tumors w...   \n",
       "3      New developments in diagnosis and therapy of C...   \n",
       "4      Prolonged shedding of SARS-CoV-2 in an elderly...   \n",
       "...                                                  ...   \n",
       "27140  The amyloidogenic pathway of amyloid precursor...   \n",
       "27141  Technologic developments in radiotherapy and s...   \n",
       "27142  Novel screening cascade identifies MKK4 as key...   \n",
       "27143  Visualization of the gall bladder on F-18 FDOP...   \n",
       "27144  Multidetector CT findings and differential dia...   \n",
       "\n",
       "                                                abstract  judgement  \\\n",
       "id                                                                    \n",
       "0      Longitudinal studies indicate that declines in...          0   \n",
       "1      The present study was undertaken to validate t...          0   \n",
       "2      Objective: To report a case series in which ba...          0   \n",
       "3      The etiology and pathogenesis of idiopathic ch...          0   \n",
       "4                                                                 0   \n",
       "...                                                  ...        ...   \n",
       "27140  Amyloid beta-protein (A beta) is the main cons...          0   \n",
       "27141  We present a review of current technological p...          0   \n",
       "27142  Phosphorylation of Tau at serine 422 promotes ...          0   \n",
       "27143  The ability to label dihydroxyphenylalanine (D...          0   \n",
       "27144  OBJECTIVE: To compare the multidetector CT (MD...          0   \n",
       "\n",
       "                                          title_abstract  \n",
       "id                                                        \n",
       "0      One-year age changes in MRI brain volumes in o...  \n",
       "1      Supportive CSF biomarker evidence to enhance t...  \n",
       "2      Occurrence of basal ganglia germ cell tumors w...  \n",
       "3      New developments in diagnosis and therapy of C...  \n",
       "4      Prolonged shedding of SARS-CoV-2 in an elderly...  \n",
       "...                                                  ...  \n",
       "27140  The amyloidogenic pathway of amyloid precursor...  \n",
       "27141  Technologic developments in radiotherapy and s...  \n",
       "27142  Novel screening cascade identifies MKK4 as key...  \n",
       "27143  Visualization of the gall bladder on F-18 FDOP...  \n",
       "27144  Multidetector CT findings and differential dia...  \n",
       "\n",
       "[27145 rows x 4 columns]"
      ]
     },
     "metadata": {}
    },
    {
     "output_type": "display_data",
     "data": {
      "text/plain": [
       "title             0\n",
       "abstract          0\n",
       "judgement         0\n",
       "title_abstract    0\n",
       "dtype: int64"
      ]
     },
     "metadata": {}
    }
   ],
   "metadata": {}
  },
  {
   "cell_type": "code",
   "execution_count": 9,
   "source": [
    "train_df, test_df = train_test_split(orig_df, test_size=0.2, random_state=hps.random_seed, shuffle=True, stratify=orig_df.judgement)\n",
    "train_df, valid_df = train_test_split(train_df, test_size=0.25, random_state=hps.random_seed, shuffle=True, stratify=train_df.judgement)\n",
    "train_df.reset_index(drop=True, inplace=True)\n",
    "valid_df.reset_index(drop=True, inplace=True)\n",
    "test_df.reset_index(drop=True, inplace=True)\n",
    "print(f\"Train  ->  label_1:{train_df.judgement.sum()} / all:{train_df.judgement.count()}   ({train_df.judgement.sum() / train_df.judgement.count() * 100:.3f}%)\")\n",
    "print(f\"Valid  ->  label_1:{valid_df.judgement.sum()} / all:{valid_df.judgement.count()}   ({valid_df.judgement.sum() / valid_df.judgement.count() * 100:.3f}%)\")\n",
    "print(f\"Test   ->  label_1:{test_df.judgement.sum()} / all:{test_df.judgement.count()}   ({test_df.judgement.sum() / test_df.judgement.count() * 100:.3f}%)\")"
   ],
   "outputs": [
    {
     "output_type": "stream",
     "name": "stdout",
     "text": [
      "Train  ->  label_1:378 / all:16287   (2.321%)\n",
      "Valid  ->  label_1:126 / all:5429   (2.321%)\n",
      "Test   ->  label_1:126 / all:5429   (2.321%)\n"
     ]
    }
   ],
   "metadata": {}
  },
  {
   "cell_type": "code",
   "execution_count": 10,
   "source": [
    "len(train_df) / len(train_df.loc[train_df.judgement==1])"
   ],
   "outputs": [
    {
     "output_type": "execute_result",
     "data": {
      "text/plain": [
       "43.08730158730159"
      ]
     },
     "metadata": {},
     "execution_count": 10
    }
   ],
   "metadata": {}
  },
  {
   "cell_type": "markdown",
   "source": [
    "## BaseModel"
   ],
   "metadata": {}
  },
  {
   "cell_type": "code",
   "execution_count": 11,
   "source": [
    "base_tokenizer = transformers.AutoTokenizer.from_pretrained(hps.model_name)\n",
    "base_model = transformers.AutoModel.from_pretrained(hps.model_name)\n",
    "base_model_config = transformers.AutoConfig.from_pretrained(hps.model_name)"
   ],
   "outputs": [
    {
     "output_type": "stream",
     "name": "stderr",
     "text": [
      "Some weights of the model checkpoint at microsoft/BiomedNLP-PubMedBERT-base-uncased-abstract-fulltext were not used when initializing BertModel: ['cls.predictions.transform.LayerNorm.weight', 'cls.seq_relationship.weight', 'cls.predictions.decoder.weight', 'cls.predictions.transform.dense.weight', 'cls.predictions.transform.dense.bias', 'cls.predictions.transform.LayerNorm.bias', 'cls.predictions.decoder.bias', 'cls.predictions.bias', 'cls.seq_relationship.bias']\n",
      "- This IS expected if you are initializing BertModel from the checkpoint of a model trained on another task or with another architecture (e.g. initializing a BertForSequenceClassification model from a BertForPreTraining model).\n",
      "- This IS NOT expected if you are initializing BertModel from the checkpoint of a model that you expect to be exactly identical (initializing a BertForSequenceClassification model from a BertForSequenceClassification model).\n"
     ]
    }
   ],
   "metadata": {}
  },
  {
   "cell_type": "code",
   "execution_count": 12,
   "source": [
    "print(base_model_config)"
   ],
   "outputs": [
    {
     "output_type": "stream",
     "name": "stdout",
     "text": [
      "BertConfig {\n",
      "  \"architectures\": [\n",
      "    \"BertForMaskedLM\"\n",
      "  ],\n",
      "  \"attention_probs_dropout_prob\": 0.1,\n",
      "  \"classifier_dropout\": null,\n",
      "  \"gradient_checkpointing\": false,\n",
      "  \"hidden_act\": \"gelu\",\n",
      "  \"hidden_dropout_prob\": 0.1,\n",
      "  \"hidden_size\": 768,\n",
      "  \"initializer_range\": 0.02,\n",
      "  \"intermediate_size\": 3072,\n",
      "  \"layer_norm_eps\": 1e-12,\n",
      "  \"max_position_embeddings\": 512,\n",
      "  \"model_type\": \"bert\",\n",
      "  \"num_attention_heads\": 12,\n",
      "  \"num_hidden_layers\": 12,\n",
      "  \"pad_token_id\": 0,\n",
      "  \"position_embedding_type\": \"absolute\",\n",
      "  \"transformers_version\": \"4.10.3\",\n",
      "  \"type_vocab_size\": 2,\n",
      "  \"use_cache\": true,\n",
      "  \"vocab_size\": 30522\n",
      "}\n",
      "\n"
     ]
    }
   ],
   "metadata": {}
  },
  {
   "cell_type": "markdown",
   "source": [
    "## Dataset / DataLoader"
   ],
   "metadata": {}
  },
  {
   "cell_type": "code",
   "execution_count": 13,
   "source": [
    "def text_argument(text, drop_min_seq=3):\n",
    "    \n",
    "    \n",
    "    seq_list = text.split('. ')\n",
    "    seq_len = len(seq_list)\n",
    "\n",
    "    if seq_len >= drop_min_seq:\n",
    "        orig_idx_list = list(range(0, seq_len))\n",
    "        print('orig_idx_list : ', orig_idx_list)\n",
    "        idx_list = random.sample(orig_idx_list, random.randint(round(seq_len * 0.7), seq_len))\n",
    "        idx_list = sorted(idx_list)\n",
    "\n",
    "\n",
    "        insert_idx_list = random.sample(orig_idx_list, random.randint(0, seq_len//3))\n",
    "        print('idx_list : ', idx_list)\n",
    "        print('insert_idx_list : ', insert_idx_list)\n",
    "        for x in insert_idx_list:\n",
    "            idx = random.randint(0, len(idx_list))\n",
    "            idx_list.insert(idx, x)\n",
    "        print('inserted_idx_list : ', idx_list)\n",
    "\n",
    "        seq_list = [seq_list[i] for i in idx_list]\n",
    "\n",
    "\n",
    "    text = '. '.join(seq_list)\n",
    "\n",
    "    return text"
   ],
   "outputs": [],
   "metadata": {}
  },
  {
   "cell_type": "code",
   "execution_count": 14,
   "source": [
    "text = train_df.loc[0, 'title_abstract']\n",
    "argumented_text = text_argument(text)\n",
    "print('<text>\\n', text)\n",
    "print('\\n<argumented text>\\n', argumented_text)"
   ],
   "outputs": [
    {
     "output_type": "stream",
     "name": "stdout",
     "text": [
      "orig_idx_list :  [0, 1, 2, 3, 4]\n",
      "idx_list :  [0, 1, 2, 3, 4]\n",
      "insert_idx_list :  [4]\n",
      "inserted_idx_list :  [4, 0, 1, 2, 3, 4]\n",
      "<text>\n",
      " Tracer transport and metabolism in a patient with juvenile pilocytic astrocytoma. A PET studyWe studied a patient with juvenile pilocytic astrocytoma (JPA) using positron emission tomography (PET)  18F-fluorodeoxyglucose (FDG)  11C-methionine (MET)  and 82Rubidium (RUB). Non-linear fitting and multiple time graphical plotting of the dynamic PET data revealed values for tumor plasma volume  blood-brain barrier transport rate constants and tracer distribution volume in the range of glioblastomas and meningiomas  or higher. Likewise  the steady-state accumulation of MET and FDG was increased. With regard to the known vascular composition of JPA  our data suggest that increased transport and distribution considerably contribute to the high net tracer uptake observed in this tumor\n",
      "\n",
      "<argumented text>\n",
      " With regard to the known vascular composition of JPA  our data suggest that increased transport and distribution considerably contribute to the high net tracer uptake observed in this tumor. Tracer transport and metabolism in a patient with juvenile pilocytic astrocytoma. A PET studyWe studied a patient with juvenile pilocytic astrocytoma (JPA) using positron emission tomography (PET)  18F-fluorodeoxyglucose (FDG)  11C-methionine (MET)  and 82Rubidium (RUB). Non-linear fitting and multiple time graphical plotting of the dynamic PET data revealed values for tumor plasma volume  blood-brain barrier transport rate constants and tracer distribution volume in the range of glioblastomas and meningiomas  or higher. Likewise  the steady-state accumulation of MET and FDG was increased. With regard to the known vascular composition of JPA  our data suggest that increased transport and distribution considerably contribute to the high net tracer uptake observed in this tumor\n"
     ]
    }
   ],
   "metadata": {}
  },
  {
   "cell_type": "code",
   "execution_count": 15,
   "source": [
    "train_df.loc[3, 'title']"
   ],
   "outputs": [
    {
     "output_type": "execute_result",
     "data": {
      "text/plain": [
       "'Testing Asymptomatic Emergency Department Patients for Coronavirus of 2019 (COVID-19) in a Low Prevalence Region'"
      ]
     },
     "metadata": {},
     "execution_count": 15
    }
   ],
   "metadata": {}
  },
  {
   "cell_type": "code",
   "execution_count": 16,
   "source": [
    "class TextClassificationDataset(Dataset):\n",
    "    def __init__(self, df, tokenizer, use_col='title_abstract', token_max_length=512, argument=False, upsample_pos_n=1):\n",
    "\n",
    "        if upsample_pos_n > 1:\n",
    "            df_pos = df.loc[df.judgement==1]\n",
    "            df_pos = pd.concat([df_pos for i in range(int(upsample_pos_n))], axis=0).reset_index(drop=True)\n",
    "            df_neg = df.loc[df.judgement==0]\n",
    "            self.df = pd.concat([df_pos, df_neg], axis=0).reset_index(drop=True)\n",
    "        else:\n",
    "            self.df = df\n",
    "        \n",
    "        self.tokenizer = tokenizer\n",
    "        self.argument = argument\n",
    "        self.use_col = use_col\n",
    "\n",
    "    def text_argument(self, text, drop_min_seq=3, seq_sort=True):\n",
    "        seq_list = text.split('. ')\n",
    "        seq_len = len(seq_list)\n",
    "        if seq_len >= drop_min_seq:\n",
    "            orig_idx_list = list(range(0, seq_len))\n",
    "            idx_list = random.sample(orig_idx_list, random.randint(round(seq_len * 0.7), seq_len))\n",
    "            if seq_sort:\n",
    "                idx_list = sorted(idx_list)\n",
    "            insert_idx_list = random.sample(orig_idx_list, random.randint(0, seq_len//3))\n",
    "            for x in insert_idx_list:\n",
    "                idx = random.randint(0, len(idx_list))\n",
    "                idx_list.insert(idx, x)\n",
    "            seq_list = [seq_list[i] for i in idx_list]\n",
    "        text = '. '.join(seq_list)\n",
    "        return text\n",
    "\n",
    "    def __len__(self):\n",
    "        return len(self.df)\n",
    "\n",
    "    def __getitem__(self, idx):\n",
    "        \n",
    "        text = self.df.loc[idx, self.use_col]\n",
    "\n",
    "        if self.argument:\n",
    "            text = self.text_argument(text, drop_min_seq=3, seq_sort=True)\n",
    "\n",
    "        token = self.tokenizer.encode_plus(\n",
    "            text,\n",
    "            padding = 'max_length', max_length = hps.token_max_length, truncation = True,\n",
    "            return_attention_mask=True, return_tensors='pt'\n",
    "        )\n",
    "\n",
    "        sample = dict(\n",
    "            input_ids=token['input_ids'][0],\n",
    "            attention_mask=token['attention_mask'][0]\n",
    "        )\n",
    "        \n",
    "        label = torch.tensor(self.df.loc[idx, 'judgement'], dtype=torch.float32)\n",
    "        return sample, label\n",
    "        "
   ],
   "outputs": [],
   "metadata": {}
  },
  {
   "cell_type": "code",
   "execution_count": 17,
   "source": [
    "phase_param = {\n",
    "    \"df\":{'train': train_df, 'val': valid_df, 'test': test_df},\n",
    "    \"argument\":{'train': hps.train_argument, 'val': False, 'test': False},\n",
    "    \"batch_size\":{'train':hps.batch_size, 'val':hps.batch_size*2, 'test':hps.batch_size*2},\n",
    "    \"shuffle\":{'train': True, 'val': False, 'test': False},\n",
    "    \"upsample_pos_n\":{'train': hps.upsample_pos_n, 'val': 1, 'test': 1},\n",
    "}"
   ],
   "outputs": [],
   "metadata": {}
  },
  {
   "cell_type": "code",
   "execution_count": 18,
   "source": [
    "datasets = {phase:TextClassificationDataset(df=phase_param['df'][phase], tokenizer=base_tokenizer, use_col=hps.use_col,\\\n",
    "                                            token_max_length=hps.token_max_length, argument=phase_param['argument'][phase],\\\n",
    "                                            upsample_pos_n=phase_param['upsample_pos_n'][phase]) for phase in ['train', 'val', 'test']}\n",
    "\n",
    "dataloaders = {phase: DataLoader(datasets[phase], batch_size=phase_param['batch_size'][phase], \\\n",
    "                                 shuffle=phase_param['shuffle'][phase]) for phase in ['train', 'val', 'test']}\n",
    "\n",
    "print(len(datasets['train']), len(datasets['val']), len(datasets['test']))\n",
    "print(len(dataloaders['train']), len(dataloaders['val']), len(dataloaders['test']))"
   ],
   "outputs": [
    {
     "output_type": "stream",
     "name": "stdout",
     "text": [
      "16287 5429 5429\n",
      "64 11 11\n"
     ]
    }
   ],
   "metadata": {}
  },
  {
   "cell_type": "markdown",
   "source": [
    "## Model"
   ],
   "metadata": {}
  },
  {
   "cell_type": "code",
   "execution_count": 19,
   "source": [
    "class BertCnnModel(nn.Module):\n",
    "    def __init__(self, base_model, hidden_size):\n",
    "        super().__init__()\n",
    "        self.base_model = base_model\n",
    "        self.conv1d_1 = nn.Conv1d(hidden_size, 256, kernel_size=2, padding=1)\n",
    "        self.conv1d_2 = nn.Conv1d(256, 1, kernel_size=2, padding=1)\n",
    "        self.linear = nn.Linear(258, 1)\n",
    "    \n",
    "    def forward(self, input_ids, attention_mask):\n",
    "        out = self.base_model(input_ids=input_ids, attention_mask=attention_mask)\n",
    "        last_hidden_state = out['last_hidden_state'].permute(0, 2, 1)\n",
    "        conv_embed = torch.relu(self.conv1d_1(last_hidden_state))\n",
    "        conv_embed = self.conv1d_2(conv_embed).squeeze()\n",
    "        #out = self.linear(conv_embed).squeeze()\n",
    "        logits = torch.sigmoid(self.linear(conv_embed)).squeeze()\n",
    "        return logits"
   ],
   "outputs": [],
   "metadata": {}
  },
  {
   "cell_type": "code",
   "execution_count": 24,
   "source": [
    "class BertLstmModel(nn.Module):\n",
    "    def __init__(self, base_model, hidden_size):\n",
    "        super().__init__()\n",
    "        self.base_model = base_model\n",
    "        self.lstm = nn.LSTM(hidden_size, hidden_size, batch_first=True)\n",
    "        self.regressor = nn.Linear(hidden_size, 1)\n",
    "    \n",
    "    def forward(self, input_ids, attention_mask):\n",
    "        outputs = self.base_model(input_ids=input_ids, attention_mask=attention_mask)\n",
    "        self.lstm.flatten_parameters()\n",
    "        out, _ = self.lstm(outputs['last_hidden_state'], None)\n",
    "        sequence_output = out[:, -1, :]\n",
    "        #logits = torch.sigmoid(torch.flatten(self.regressor(sequence_output)))\n",
    "        logits = torch.flatten(self.regressor(sequence_output))\n",
    "        return logits"
   ],
   "outputs": [],
   "metadata": {}
  },
  {
   "cell_type": "code",
   "execution_count": 25,
   "source": [
    "if hps.model_type == 'cnn':\n",
    "    print(f\"Choosed BertLstmModel\")\n",
    "    model = BertLstmModel(base_model=base_model, hidden_size=base_model_config.hidden_size)\n",
    "elif hps.model_type == 'lstm':\n",
    "    print(f\"Choosed BertLstmModel\")\n",
    "    model = BertLstmModel(base_model=base_model, hidden_size=base_model_config.hidden_size)"
   ],
   "outputs": [
    {
     "output_type": "stream",
     "name": "stdout",
     "text": [
      "Choosed BertLstmModel\n"
     ]
    }
   ],
   "metadata": {}
  },
  {
   "cell_type": "code",
   "execution_count": 26,
   "source": [
    "inputs, labels = next(iter(dataloaders['train']))\n",
    "input_ids = inputs['input_ids']\n",
    "attention_mask = inputs['attention_mask']\n",
    "\n",
    "out = model(input_ids, attention_mask)\n",
    "print(out.shape)\n",
    "print(print(out.min(), out.max()))"
   ],
   "outputs": [
    {
     "output_type": "stream",
     "name": "stdout",
     "text": [
      "torch.Size([256])\n",
      "tensor(-0.1331, grad_fn=<MinBackward1>) tensor(0.0071, grad_fn=<MaxBackward1>)\n",
      "None\n"
     ]
    }
   ],
   "metadata": {}
  },
  {
   "cell_type": "code",
   "execution_count": 23,
   "source": [
    "class ModelCheckpoint:\n",
    "    def __init__(self, save_dir:str, model_name:str):\n",
    "        os.makedirs(save_dir, exist_ok=True)\n",
    "        self.save_dir = save_dir\n",
    "        self.model_name = model_name\n",
    "        jst = dt.timezone(dt.timedelta(hours=+9), 'JST')\n",
    "        dt_now = dt.datetime.now(jst)\n",
    "        self.dt_now_str = dt_now.strftime('%Y%m%d_%H%M')\n",
    "        self.best_loss = self.best_acc = self.best_fbeta_score = 0.0\n",
    "        self.best_epoch = 0\n",
    "\n",
    "    def get_checkpoint_name(self, epoch):\n",
    "        checkpoint_name = f\"{self.model_name.replace('/', '_')}__epoch{epoch:03}__{self.dt_now_str}.pth\"\n",
    "        checkpoint_name = os.path.join(self.save_dir, checkpoint_name)\n",
    "        return checkpoint_name\n",
    "\n",
    "    def save_checkpoint(self, model, epoch):\n",
    "        torch.save(model.state_dict(), self.get_checkpoint_name(epoch))\n",
    "\n",
    "    def load_checkpoint(self, model=None, epoch=1, manual_name=None):\n",
    "        if manual_name is None:\n",
    "            checkpoint_name = self.get_checkpoint_name(epoch)\n",
    "        else:\n",
    "            checkpoint_name = manual_name\n",
    "        print(checkpoint_name)\n",
    "        model.load_state_dict(torch.load(checkpoint_name))\n",
    "        return model"
   ],
   "outputs": [],
   "metadata": {}
  },
  {
   "cell_type": "code",
   "execution_count": 24,
   "source": [
    "def fit(dataloaders, model, optimizer, num_epochs, device, batch_size, lr_scheduler):\n",
    "\n",
    "    history = {\n",
    "        'train':{'loss':[], 'acc':[], 'fbscore':[]},\n",
    "        'val':{'loss':[], 'acc':[], 'fbscore':[]},\n",
    "        'lr':[],\n",
    "    }\n",
    "\n",
    "    checkpoint = ModelCheckpoint(save_dir='model_weights', model_name=hps.model_name)\n",
    "    best_model_wts = copy.deepcopy(model.state_dict())\n",
    "\n",
    "    print(f\"Using device : {device}\")\n",
    "    for epoch in range(num_epochs):\n",
    "        print(f\"【Epoch {epoch+1: 3}/{num_epochs: 3}】   LR -> \", end='')\n",
    "        for i, params in enumerate(optimizer.param_groups):\n",
    "            print(f\"Group{i}: {params['lr']:.4e}\", end=' / ')\n",
    "        print('')\n",
    "\n",
    "        for phase in ['train', 'val']:\n",
    "            running_loss = 0.0\n",
    "            running_corrects = 0\n",
    "            running_fbeta_score = 0.0\n",
    "            if phase == 'train':\n",
    "                model.train()\n",
    "            else:\n",
    "                model.eval()\n",
    "            for i, (inputs, labels) in enumerate(tqdm(dataloaders[phase])):\n",
    "                input_ids = inputs['input_ids']\n",
    "                attention_mask = inputs['attention_mask']\n",
    "                input_ids = input_ids.to(device)\n",
    "                attention_mask = attention_mask.to(device)\n",
    "                labels = labels.to(device)\n",
    "\n",
    "                optimizer.zero_grad()\n",
    "                \n",
    "                with torch.set_grad_enabled(phase == 'train'):\n",
    "                    logits_outputs = model(input_ids=input_ids, attention_mask=attention_mask)\n",
    "                    pos_weight = torch.tensor([hps.class_1_weight for i in range(input_ids.size(0))]).to(device)\n",
    "                    criterion = nn.BCEWithLogitsLoss(pos_weight=pos_weight)\n",
    "                    loss = criterion(logits_outputs, labels)\n",
    "\n",
    "                    outputs = torch.sigmoid(logits_outputs)\n",
    "                    preds = torch.where(outputs >= 0.5, 1, 0)\n",
    "                    \n",
    "                    if phase == 'train':\n",
    "                        loss.backward()\n",
    "                        optimizer.step()\n",
    "                        lr_scheduler.step()\n",
    "\n",
    "                running_loss += loss.item() * input_ids.size(0)\n",
    "                running_corrects += torch.sum(preds == labels)\n",
    "                running_fbeta_score += fbeta_score(labels.to('cpu').detach().numpy(), preds.to('cpu').detach().numpy(), beta=7.0, zero_division=0)                    \n",
    "\n",
    "                if phase == 'train':\n",
    "                    if i % 10 == 9:\n",
    "                        total_num = float((i * batch_size) + input_ids.size(0))\n",
    "                        print(f\"{i+1: 4}/{len(dataloaders[phase]): 4}  <{phase}> Loss:{(running_loss/total_num):.4f}  Acc:{(running_corrects/total_num):.4f}  fbScore:{(running_fbeta_score/(i+1)):.4f}   LR -> \", end='')\n",
    "                        for i, params in enumerate(optimizer.param_groups):\n",
    "                            print(f\"Group{i}: {params['lr']:.4e}\", end=' / ')\n",
    "                            if isinstance(optimizer.param_groups[0]['lr'], float):\n",
    "                                history['lr'].append(optimizer.param_groups[0]['lr'])\n",
    "                            else:\n",
    "                                history['lr'].append(optimizer.param_groups[0]['lr'].item())\n",
    "                        print('')\n",
    "\n",
    "            epoch_loss = running_loss / len(dataloaders[phase].dataset)\n",
    "            epoch_acc = running_corrects / len(dataloaders[phase].dataset)\n",
    "            epoch_fbscore = running_fbeta_score / len(dataloaders[phase])\n",
    "            \n",
    "            print(f\"<{phase}> Loss:{epoch_loss:.4f}  Acc:{epoch_acc:.4f}  fbScore:{epoch_fbscore:.4f}\")\n",
    "\n",
    "            history[phase]['loss'].append(epoch_loss)\n",
    "            history[phase]['acc'].append(epoch_acc.item())\n",
    "            history[phase]['fbscore'].append(epoch_fbscore)\n",
    "\n",
    "\n",
    "            if phase == 'val' and epoch_fbscore > checkpoint.best_fbeta_score:\n",
    "                print(f\"Checkpoints have been updated to the epoch {epoch+1} weights.\")\n",
    "                checkpoint.best_loss = epoch_loss\n",
    "                checkpoint.best_acc = epoch_acc\n",
    "                checkpoint.best_fbeta_score = epoch_fbscore\n",
    "                checkpoint.best_epoch = epoch+1\n",
    "                best_model_wts = copy.deepcopy(model.state_dict())\n",
    "\n",
    "            \n",
    "\n",
    "\n",
    "\n",
    "        print('-' * 150)\n",
    "\n",
    "    model.load_state_dict(best_model_wts)\n",
    "    checkpoint.save_checkpoint(model, epoch)\n",
    "    torch.cuda.empty_cache()\n",
    "\n",
    "    return model, history"
   ],
   "outputs": [],
   "metadata": {}
  },
  {
   "cell_type": "code",
   "execution_count": 25,
   "source": [
    "model = model.to(device)\n",
    "\n",
    "\n",
    "\n",
    "optimizer = optim.AdamW(model.parameters(), lr=hps.initial_lr)\n",
    "\"\"\"\n",
    "optimizer = optim.AdamW(\n",
    "    params=[\n",
    "        {'params': model.base_model.parameters(), 'lr': 1e-5},\n",
    "        {'params': model.lstm.parameters(), 'lr': 5e-4},\n",
    "        {'params': model.regressor.parameters(), 'lr': 5e-3}\n",
    "    ]\n",
    ")\n",
    "\"\"\"\n",
    "#exp_lr_scheduler = lr_scheduler.StepLR(optimizer, step_size=1, gamma=0.95)\n",
    "\n",
    "\n",
    "#optimizer = Adafactor(model.parameters(), scale_parameter=True, relative_step=True, warmup_init=True, lr=None)\n",
    "#lr_scheduler = AdafactorSchedule(optimizer)\n",
    "\n",
    "# https://huggingface.co/transformers/main_classes/optimizer_schedules.html#transformers.get_linear_schedule_with_warmup\n",
    "\n",
    "num_warmup_steps = round(hps.num_epochs * len(dataloaders['train']) * 0.1)\n",
    "num_training_steps = round(hps.num_epochs * len(dataloaders['train']))\n",
    "print(f\"InitLR:{hps.initial_lr} / num_warmup_steps:{num_warmup_steps} / num_training_steps:{num_training_steps}\")\n",
    "lr_scheduler = transformers.get_linear_schedule_with_warmup(optimizer=optimizer, num_warmup_steps=num_warmup_steps, \n",
    "                                                            num_training_steps=num_training_steps, last_epoch=-1)\n",
    "\n",
    "\n",
    "\n",
    "device_num = torch.cuda.device_count()\n",
    "if device_num > 1:\n",
    "    print(f\"Use {device_num} GPUs\")\n",
    "    model = nn.DataParallel(model)\n",
    "\n",
    "model, history = fit(dataloaders=dataloaders, model=model,\n",
    "              optimizer=optimizer, num_epochs=hps.num_epochs, device=device, batch_size=hps.batch_size, lr_scheduler=lr_scheduler)"
   ],
   "outputs": [
    {
     "output_type": "stream",
     "name": "stdout",
     "text": [
      "InitLR:3e-05 / num_warmup_steps:96 / num_training_steps:960\n",
      "Use 4 GPUs\n",
      "Using device : cuda\n",
      "【Epoch   1/ 15】   LR -> Group0: 0.0000e+00 / \n"
     ]
    },
    {
     "output_type": "display_data",
     "data": {
      "application/vnd.jupyter.widget-view+json": {
       "version_major": 2,
       "version_minor": 0,
       "model_id": "33da252be9dc40749bf96399cf7b493a"
      },
      "text/plain": [
       "  0%|          | 0/64 [00:00<?, ?it/s]"
      ]
     },
     "metadata": {}
    },
    {
     "output_type": "stream",
     "name": "stdout",
     "text": [
      "  10/  64  <train> Loss:2.7784  Acc:0.4195  fbScore:0.4015   LR -> Group0: 3.1250e-06 / \n",
      "  20/  64  <train> Loss:2.6525  Acc:0.2430  fbScore:0.4445   LR -> Group0: 6.2500e-06 / \n",
      "  30/  64  <train> Loss:2.5619  Acc:0.1690  fbScore:0.4617   LR -> Group0: 9.3750e-06 / \n",
      "  40/  64  <train> Loss:2.5495  Acc:0.1327  fbScore:0.4774   LR -> Group0: 1.2500e-05 / \n",
      "  50/  64  <train> Loss:2.5294  Acc:0.1109  fbScore:0.4875   LR -> Group0: 1.5625e-05 / \n",
      "  60/  64  <train> Loss:2.5025  Acc:0.0961  fbScore:0.4895   LR -> Group0: 1.8750e-05 / \n",
      "<train> Loss:2.4968  Acc:0.0920  fbScore:0.4929\n"
     ]
    },
    {
     "output_type": "display_data",
     "data": {
      "application/vnd.jupyter.widget-view+json": {
       "version_major": 2,
       "version_minor": 0,
       "model_id": "243805e58ff044e290faf5398ae23bfc"
      },
      "text/plain": [
       "  0%|          | 0/11 [00:00<?, ?it/s]"
      ]
     },
     "metadata": {}
    },
    {
     "output_type": "stream",
     "name": "stdout",
     "text": [
      "<val> Loss:2.3628  Acc:0.0232  fbScore:0.5266\n",
      "Checkpoints have been updated to the epoch 1 weights.\n",
      "------------------------------------------------------------------------------------------------------------------------------------------------------\n",
      "【Epoch   2/ 15】   LR -> Group0: 2.0000e-05 / \n"
     ]
    },
    {
     "output_type": "display_data",
     "data": {
      "application/vnd.jupyter.widget-view+json": {
       "version_major": 2,
       "version_minor": 0,
       "model_id": "74eb37324d1a4174b16260544d24bb64"
      },
      "text/plain": [
       "  0%|          | 0/64 [00:00<?, ?it/s]"
      ]
     },
     "metadata": {}
    },
    {
     "output_type": "stream",
     "name": "stdout",
     "text": [
      "  10/  64  <train> Loss:2.4449  Acc:0.0254  fbScore:0.5484   LR -> Group0: 2.3125e-05 / \n",
      "  20/  64  <train> Loss:2.3583  Acc:0.2947  fbScore:0.6099   LR -> Group0: 2.6250e-05 / \n",
      "  30/  64  <train> Loss:2.3871  Acc:0.2770  fbScore:0.5989   LR -> Group0: 2.9375e-05 / \n",
      "  40/  64  <train> Loss:2.3824  Acc:0.2135  fbScore:0.5789   LR -> Group0: 2.9722e-05 / \n",
      "  50/  64  <train> Loss:2.3578  Acc:0.1749  fbScore:0.5625   LR -> Group0: 2.9375e-05 / \n",
      "  60/  64  <train> Loss:2.3324  Acc:0.1490  fbScore:0.5497   LR -> Group0: 2.9028e-05 / \n",
      "<train> Loss:2.3362  Acc:0.1419  fbScore:0.5486\n"
     ]
    },
    {
     "output_type": "display_data",
     "data": {
      "application/vnd.jupyter.widget-view+json": {
       "version_major": 2,
       "version_minor": 0,
       "model_id": "984b8144b30b46d29e485ddce01793a2"
      },
      "text/plain": [
       "  0%|          | 0/11 [00:00<?, ?it/s]"
      ]
     },
     "metadata": {}
    },
    {
     "output_type": "stream",
     "name": "stdout",
     "text": [
      "<val> Loss:2.3740  Acc:0.0232  fbScore:0.5266\n",
      "------------------------------------------------------------------------------------------------------------------------------------------------------\n",
      "【Epoch   3/ 15】   LR -> Group0: 2.8889e-05 / \n"
     ]
    },
    {
     "output_type": "display_data",
     "data": {
      "application/vnd.jupyter.widget-view+json": {
       "version_major": 2,
       "version_minor": 0,
       "model_id": "b10934fc0bb94b82b869f64d7e201102"
      },
      "text/plain": [
       "  0%|          | 0/64 [00:00<?, ?it/s]"
      ]
     },
     "metadata": {}
    },
    {
     "output_type": "stream",
     "name": "stdout",
     "text": [
      "  10/  64  <train> Loss:2.4024  Acc:0.0238  fbScore:0.5275   LR -> Group0: 2.8542e-05 / \n",
      "  20/  64  <train> Loss:2.3845  Acc:0.0234  fbScore:0.5277   LR -> Group0: 2.8194e-05 / \n",
      "  30/  64  <train> Loss:2.3666  Acc:0.0230  fbScore:0.5211   LR -> Group0: 2.7847e-05 / \n",
      "  40/  64  <train> Loss:2.3934  Acc:0.0236  fbScore:0.5257   LR -> Group0: 2.7500e-05 / \n",
      "  50/  64  <train> Loss:2.3987  Acc:0.0237  fbScore:0.5256   LR -> Group0: 2.7153e-05 / \n",
      "  60/  64  <train> Loss:2.3933  Acc:0.0236  fbScore:0.5248   LR -> Group0: 2.6806e-05 / \n",
      "<train> Loss:2.3739  Acc:0.0232  fbScore:0.5174\n"
     ]
    },
    {
     "output_type": "display_data",
     "data": {
      "application/vnd.jupyter.widget-view+json": {
       "version_major": 2,
       "version_minor": 0,
       "model_id": "446199816fdc4cd0aa5c4919e6465fbc"
      },
      "text/plain": [
       "  0%|          | 0/11 [00:00<?, ?it/s]"
      ]
     },
     "metadata": {}
    },
    {
     "output_type": "stream",
     "name": "stdout",
     "text": [
      "<val> Loss:2.3737  Acc:0.0232  fbScore:0.5266\n",
      "------------------------------------------------------------------------------------------------------------------------------------------------------\n",
      "【Epoch   4/ 15】   LR -> Group0: 2.6667e-05 / \n"
     ]
    },
    {
     "output_type": "display_data",
     "data": {
      "application/vnd.jupyter.widget-view+json": {
       "version_major": 2,
       "version_minor": 0,
       "model_id": "135321abdbb741219bc052fa13dc9002"
      },
      "text/plain": [
       "  0%|          | 0/64 [00:00<?, ?it/s]"
      ]
     },
     "metadata": {}
    },
    {
     "output_type": "stream",
     "name": "stdout",
     "text": [
      "  10/  64  <train> Loss:2.5450  Acc:0.0270  fbScore:0.5652   LR -> Group0: 2.6319e-05 / \n",
      "  20/  64  <train> Loss:2.3931  Acc:0.0236  fbScore:0.5261   LR -> Group0: 2.5972e-05 / \n",
      "  30/  64  <train> Loss:2.3663  Acc:0.0230  fbScore:0.5231   LR -> Group0: 2.5625e-05 / \n",
      "  40/  64  <train> Loss:2.4244  Acc:0.0243  fbScore:0.5346   LR -> Group0: 2.5278e-05 / \n",
      "  50/  64  <train> Loss:2.3984  Acc:0.0237  fbScore:0.5274   LR -> Group0: 2.4931e-05 / \n",
      "  60/  64  <train> Loss:2.3693  Acc:0.0231  fbScore:0.5219   LR -> Group0: 2.4583e-05 / \n",
      "<train> Loss:2.3737  Acc:0.0232  fbScore:0.5230\n"
     ]
    },
    {
     "output_type": "display_data",
     "data": {
      "application/vnd.jupyter.widget-view+json": {
       "version_major": 2,
       "version_minor": 0,
       "model_id": "4db7f1915b894639ac0e8c5917e1d81b"
      },
      "text/plain": [
       "  0%|          | 0/11 [00:00<?, ?it/s]"
      ]
     },
     "metadata": {}
    },
    {
     "output_type": "stream",
     "name": "stdout",
     "text": [
      "<val> Loss:2.3736  Acc:0.0232  fbScore:0.5266\n",
      "------------------------------------------------------------------------------------------------------------------------------------------------------\n",
      "【Epoch   5/ 15】   LR -> Group0: 2.4444e-05 / \n"
     ]
    },
    {
     "output_type": "display_data",
     "data": {
      "application/vnd.jupyter.widget-view+json": {
       "version_major": 2,
       "version_minor": 0,
       "model_id": "0796f4ce90a5490da787845b89d7fae1"
      },
      "text/plain": [
       "  0%|          | 0/64 [00:00<?, ?it/s]"
      ]
     },
     "metadata": {}
    },
    {
     "output_type": "stream",
     "name": "stdout",
     "text": [
      "  10/  64  <train> Loss:2.4377  Acc:0.0246  fbScore:0.5266   LR -> Group0: 2.4097e-05 / \n",
      "  20/  64  <train> Loss:2.3662  Acc:0.0230  fbScore:0.5091   LR -> Group0: 2.3750e-05 / \n",
      "  30/  64  <train> Loss:2.4079  Acc:0.0240  fbScore:0.5225   LR -> Group0: 2.3403e-05 / \n",
      "  40/  64  <train> Loss:2.4198  Acc:0.0242  fbScore:0.5294   LR -> Group0: 2.3056e-05 / \n",
      "  50/  64  <train> Loss:2.3983  Acc:0.0237  fbScore:0.5201   LR -> Group0: 2.2708e-05 / \n",
      "  60/  64  <train> Loss:2.3840  Acc:0.0234  fbScore:0.5181   LR -> Group0: 2.2361e-05 / \n",
      "<train> Loss:2.3736  Acc:0.0232  fbScore:0.5161\n"
     ]
    },
    {
     "output_type": "display_data",
     "data": {
      "application/vnd.jupyter.widget-view+json": {
       "version_major": 2,
       "version_minor": 0,
       "model_id": "7ddbd265543147338d5fc65a90f9e407"
      },
      "text/plain": [
       "  0%|          | 0/11 [00:00<?, ?it/s]"
      ]
     },
     "metadata": {}
    },
    {
     "output_type": "stream",
     "name": "stdout",
     "text": [
      "<val> Loss:2.3735  Acc:0.0232  fbScore:0.5266\n",
      "------------------------------------------------------------------------------------------------------------------------------------------------------\n",
      "【Epoch   6/ 15】   LR -> Group0: 2.2222e-05 / \n"
     ]
    },
    {
     "output_type": "display_data",
     "data": {
      "application/vnd.jupyter.widget-view+json": {
       "version_major": 2,
       "version_minor": 0,
       "model_id": "0d47882f0ca44c6c8b5827564b0c6808"
      },
      "text/plain": [
       "  0%|          | 0/64 [00:00<?, ?it/s]"
      ]
     },
     "metadata": {}
    },
    {
     "output_type": "stream",
     "name": "stdout",
     "text": [
      "  10/  64  <train> Loss:2.5090  Acc:0.0262  fbScore:0.5610   LR -> Group0: 2.1875e-05 / \n",
      "  20/  64  <train> Loss:2.4733  Acc:0.0254  fbScore:0.5527   LR -> Group0: 2.1528e-05 / \n",
      "  30/  64  <train> Loss:2.4554  Acc:0.0250  fbScore:0.5457   LR -> Group0: 2.1181e-05 / \n",
      "  40/  64  <train> Loss:2.4286  Acc:0.0244  fbScore:0.5397   LR -> Group0: 2.0833e-05 / \n",
      "  50/  64  <train> Loss:2.3876  Acc:0.0235  fbScore:0.5290   LR -> Group0: 2.0486e-05 / \n",
      "  60/  64  <train> Loss:2.3632  Acc:0.0230  fbScore:0.5237   LR -> Group0: 2.0139e-05 / \n",
      "<train> Loss:2.3735  Acc:0.0232  fbScore:0.5265\n"
     ]
    },
    {
     "output_type": "display_data",
     "data": {
      "application/vnd.jupyter.widget-view+json": {
       "version_major": 2,
       "version_minor": 0,
       "model_id": "c556dd832121446a90ca9d4fa2203d62"
      },
      "text/plain": [
       "  0%|          | 0/11 [00:00<?, ?it/s]"
      ]
     },
     "metadata": {}
    },
    {
     "output_type": "stream",
     "name": "stdout",
     "text": [
      "<val> Loss:2.3735  Acc:0.0232  fbScore:0.5266\n",
      "------------------------------------------------------------------------------------------------------------------------------------------------------\n",
      "【Epoch   7/ 15】   LR -> Group0: 2.0000e-05 / \n"
     ]
    },
    {
     "output_type": "display_data",
     "data": {
      "application/vnd.jupyter.widget-view+json": {
       "version_major": 2,
       "version_minor": 0,
       "model_id": "5d4e476bcadf4514b086972bc17ef9b0"
      },
      "text/plain": [
       "  0%|          | 0/64 [00:00<?, ?it/s]"
      ]
     },
     "metadata": {}
    },
    {
     "output_type": "stream",
     "name": "stdout",
     "text": [
      "  10/  64  <train> Loss:2.2947  Acc:0.0215  fbScore:0.4990   LR -> Group0: 1.9653e-05 / \n",
      "  20/  64  <train> Loss:2.3304  Acc:0.0223  fbScore:0.5163   LR -> Group0: 1.9306e-05 / \n",
      "  30/  64  <train> Loss:2.3899  Acc:0.0236  fbScore:0.5308   LR -> Group0: 1.8958e-05 / \n",
      "  40/  64  <train> Loss:2.3929  Acc:0.0236  fbScore:0.5298   LR -> Group0: 1.8611e-05 / \n",
      "  50/  64  <train> Loss:2.3482  Acc:0.0227  fbScore:0.5187   LR -> Group0: 1.8264e-05 / \n",
      "  60/  64  <train> Loss:2.3631  Acc:0.0230  fbScore:0.5199   LR -> Group0: 1.7917e-05 / \n",
      "<train> Loss:2.3735  Acc:0.0232  fbScore:0.5234\n"
     ]
    },
    {
     "output_type": "display_data",
     "data": {
      "application/vnd.jupyter.widget-view+json": {
       "version_major": 2,
       "version_minor": 0,
       "model_id": "cb5259204a91472baea4975488fe9d44"
      },
      "text/plain": [
       "  0%|          | 0/11 [00:00<?, ?it/s]"
      ]
     },
     "metadata": {}
    },
    {
     "output_type": "stream",
     "name": "stdout",
     "text": [
      "<val> Loss:2.3735  Acc:0.0232  fbScore:0.5266\n",
      "------------------------------------------------------------------------------------------------------------------------------------------------------\n",
      "【Epoch   8/ 15】   LR -> Group0: 1.7778e-05 / \n"
     ]
    },
    {
     "output_type": "display_data",
     "data": {
      "application/vnd.jupyter.widget-view+json": {
       "version_major": 2,
       "version_minor": 0,
       "model_id": "560d020925ec43e28cd11a1513c3ff75"
      },
      "text/plain": [
       "  0%|          | 0/64 [00:00<?, ?it/s]"
      ]
     },
     "metadata": {}
    },
    {
     "output_type": "stream",
     "name": "stdout",
     "text": [
      "  10/  64  <train> Loss:2.5446  Acc:0.0270  fbScore:0.5626   LR -> Group0: 1.7431e-05 / \n",
      "  20/  64  <train> Loss:2.4732  Acc:0.0254  fbScore:0.5326   LR -> Group0: 1.7083e-05 / \n",
      "  30/  64  <train> Loss:2.4494  Acc:0.0249  fbScore:0.5311   LR -> Group0: 1.6736e-05 / \n",
      "  40/  64  <train> Loss:2.4196  Acc:0.0242  fbScore:0.5267   LR -> Group0: 1.6389e-05 / \n",
      "  50/  64  <train> Loss:2.3982  Acc:0.0237  fbScore:0.5219   LR -> Group0: 1.6042e-05 / \n",
      "  60/  64  <train> Loss:2.3928  Acc:0.0236  fbScore:0.5224   LR -> Group0: 1.5694e-05 / \n",
      "<train> Loss:2.3735  Acc:0.0232  fbScore:0.5180\n"
     ]
    },
    {
     "output_type": "display_data",
     "data": {
      "application/vnd.jupyter.widget-view+json": {
       "version_major": 2,
       "version_minor": 0,
       "model_id": "7c7a0968dba8457488834de3a3527627"
      },
      "text/plain": [
       "  0%|          | 0/11 [00:00<?, ?it/s]"
      ]
     },
     "metadata": {}
    },
    {
     "output_type": "stream",
     "name": "stdout",
     "text": [
      "<val> Loss:2.3734  Acc:0.0232  fbScore:0.5266\n",
      "------------------------------------------------------------------------------------------------------------------------------------------------------\n",
      "【Epoch   9/ 15】   LR -> Group0: 1.5556e-05 / \n"
     ]
    },
    {
     "output_type": "display_data",
     "data": {
      "application/vnd.jupyter.widget-view+json": {
       "version_major": 2,
       "version_minor": 0,
       "model_id": "f060e84d3b5347c8be86a5209949223b"
      },
      "text/plain": [
       "  0%|          | 0/64 [00:00<?, ?it/s]"
      ]
     },
     "metadata": {}
    },
    {
     "output_type": "stream",
     "name": "stdout",
     "text": [
      "  10/  64  <train> Loss:2.4732  Acc:0.0254  fbScore:0.5566   LR -> Group0: 1.5208e-05 / \n",
      "  20/  64  <train> Loss:2.4732  Acc:0.0254  fbScore:0.5496   LR -> Group0: 1.4861e-05 / \n",
      "  30/  64  <train> Loss:2.5267  Acc:0.0266  fbScore:0.5552   LR -> Group0: 1.4514e-05 / \n",
      "  40/  64  <train> Loss:2.4553  Acc:0.0250  fbScore:0.5382   LR -> Group0: 1.4167e-05 / \n",
      "  50/  64  <train> Loss:2.4303  Acc:0.0245  fbScore:0.5332   LR -> Group0: 1.3819e-05 / \n",
      "  60/  64  <train> Loss:2.3750  Acc:0.0232  fbScore:0.5207   LR -> Group0: 1.3472e-05 / \n",
      "<train> Loss:2.3735  Acc:0.0232  fbScore:0.5214\n"
     ]
    },
    {
     "output_type": "display_data",
     "data": {
      "application/vnd.jupyter.widget-view+json": {
       "version_major": 2,
       "version_minor": 0,
       "model_id": "d8cc95dcd1784cbeb01b569c7724c0c9"
      },
      "text/plain": [
       "  0%|          | 0/11 [00:00<?, ?it/s]"
      ]
     },
     "metadata": {}
    },
    {
     "output_type": "stream",
     "name": "stdout",
     "text": [
      "<val> Loss:2.3734  Acc:0.0232  fbScore:0.5266\n",
      "------------------------------------------------------------------------------------------------------------------------------------------------------\n",
      "【Epoch  10/ 15】   LR -> Group0: 1.3333e-05 / \n"
     ]
    },
    {
     "output_type": "display_data",
     "data": {
      "application/vnd.jupyter.widget-view+json": {
       "version_major": 2,
       "version_minor": 0,
       "model_id": "152b3f2a262e4932af06ba72990c8437"
      },
      "text/plain": [
       "  0%|          | 0/64 [00:00<?, ?it/s]"
      ]
     },
     "metadata": {}
    },
    {
     "output_type": "stream",
     "name": "stdout",
     "text": [
      "  10/  64  <train> Loss:2.3661  Acc:0.0230  fbScore:0.5118   LR -> Group0: 1.2986e-05 / \n",
      "  20/  64  <train> Loss:2.3571  Acc:0.0229  fbScore:0.5147   LR -> Group0: 1.2639e-05 / \n",
      "  30/  64  <train> Loss:2.4196  Acc:0.0242  fbScore:0.5275   LR -> Group0: 1.2292e-05 / \n",
      "  40/  64  <train> Loss:2.3794  Acc:0.0233  fbScore:0.5158   LR -> Group0: 1.1944e-05 / \n",
      "  50/  64  <train> Loss:2.4125  Acc:0.0241  fbScore:0.5259   LR -> Group0: 1.1597e-05 / \n",
      "  60/  64  <train> Loss:2.4047  Acc:0.0239  fbScore:0.5259   LR -> Group0: 1.1250e-05 / \n",
      "<train> Loss:2.3734  Acc:0.0232  fbScore:0.5163\n"
     ]
    },
    {
     "output_type": "display_data",
     "data": {
      "application/vnd.jupyter.widget-view+json": {
       "version_major": 2,
       "version_minor": 0,
       "model_id": "57c63448aad54422bc40d3dfe7690dd8"
      },
      "text/plain": [
       "  0%|          | 0/11 [00:00<?, ?it/s]"
      ]
     },
     "metadata": {}
    },
    {
     "output_type": "stream",
     "name": "stdout",
     "text": [
      "<val> Loss:2.3734  Acc:0.0232  fbScore:0.5266\n",
      "------------------------------------------------------------------------------------------------------------------------------------------------------\n",
      "【Epoch  11/ 15】   LR -> Group0: 1.1111e-05 / \n"
     ]
    },
    {
     "output_type": "display_data",
     "data": {
      "application/vnd.jupyter.widget-view+json": {
       "version_major": 2,
       "version_minor": 0,
       "model_id": "f8e8e71bda744317bba14bb5d36085bf"
      },
      "text/plain": [
       "  0%|          | 0/64 [00:00<?, ?it/s]"
      ]
     },
     "metadata": {}
    },
    {
     "output_type": "stream",
     "name": "stdout",
     "text": [
      "  10/  64  <train> Loss:2.5088  Acc:0.0262  fbScore:0.5571   LR -> Group0: 1.0764e-05 / \n",
      "  20/  64  <train> Loss:2.4642  Acc:0.0252  fbScore:0.5367   LR -> Group0: 1.0417e-05 / \n",
      "  30/  64  <train> Loss:2.4136  Acc:0.0241  fbScore:0.5294   LR -> Group0: 1.0069e-05 / \n",
      "  40/  64  <train> Loss:2.3616  Acc:0.0229  fbScore:0.5173   LR -> Group0: 9.7222e-06 / \n",
      "  50/  64  <train> Loss:2.3767  Acc:0.0233  fbScore:0.5213   LR -> Group0: 9.3750e-06 / \n",
      "  60/  64  <train> Loss:2.3720  Acc:0.0232  fbScore:0.5202   LR -> Group0: 9.0278e-06 / \n",
      "<train> Loss:2.3734  Acc:0.0232  fbScore:0.5215\n"
     ]
    },
    {
     "output_type": "display_data",
     "data": {
      "application/vnd.jupyter.widget-view+json": {
       "version_major": 2,
       "version_minor": 0,
       "model_id": "f4814d918c4e444e8870e115a3ff6297"
      },
      "text/plain": [
       "  0%|          | 0/11 [00:00<?, ?it/s]"
      ]
     },
     "metadata": {}
    },
    {
     "output_type": "stream",
     "name": "stdout",
     "text": [
      "<val> Loss:2.3734  Acc:0.0232  fbScore:0.5266\n",
      "------------------------------------------------------------------------------------------------------------------------------------------------------\n",
      "【Epoch  12/ 15】   LR -> Group0: 8.8889e-06 / \n"
     ]
    },
    {
     "output_type": "display_data",
     "data": {
      "application/vnd.jupyter.widget-view+json": {
       "version_major": 2,
       "version_minor": 0,
       "model_id": "c85cbac6fc014eceab942870015a22e3"
      },
      "text/plain": [
       "  0%|          | 0/64 [00:00<?, ?it/s]"
      ]
     },
     "metadata": {}
    },
    {
     "output_type": "stream",
     "name": "stdout",
     "text": [
      "  10/  64  <train> Loss:2.1875  Acc:0.0191  fbScore:0.4694   LR -> Group0: 8.5417e-06 / \n",
      "  20/  64  <train> Loss:2.3214  Acc:0.0221  fbScore:0.5131   LR -> Group0: 8.1944e-06 / \n",
      "  30/  64  <train> Loss:2.3125  Acc:0.0219  fbScore:0.5038   LR -> Group0: 7.8472e-06 / \n",
      "  40/  64  <train> Loss:2.3437  Acc:0.0226  fbScore:0.5069   LR -> Group0: 7.5000e-06 / \n",
      "  50/  64  <train> Loss:2.3660  Acc:0.0230  fbScore:0.5142   LR -> Group0: 7.1528e-06 / \n",
      "  60/  64  <train> Loss:2.3720  Acc:0.0232  fbScore:0.5172   LR -> Group0: 6.8056e-06 / \n",
      "<train> Loss:2.3734  Acc:0.0232  fbScore:0.5168\n"
     ]
    },
    {
     "output_type": "display_data",
     "data": {
      "application/vnd.jupyter.widget-view+json": {
       "version_major": 2,
       "version_minor": 0,
       "model_id": "d170a1e264f84652a9b4583572e756df"
      },
      "text/plain": [
       "  0%|          | 0/11 [00:00<?, ?it/s]"
      ]
     },
     "metadata": {}
    },
    {
     "output_type": "stream",
     "name": "stdout",
     "text": [
      "<val> Loss:2.3734  Acc:0.0232  fbScore:0.5266\n",
      "------------------------------------------------------------------------------------------------------------------------------------------------------\n",
      "【Epoch  13/ 15】   LR -> Group0: 6.6667e-06 / \n"
     ]
    },
    {
     "output_type": "display_data",
     "data": {
      "application/vnd.jupyter.widget-view+json": {
       "version_major": 2,
       "version_minor": 0,
       "model_id": "9d13bdfd700c4f5596f50fd605db75db"
      },
      "text/plain": [
       "  0%|          | 0/64 [00:00<?, ?it/s]"
      ]
     },
     "metadata": {}
    },
    {
     "output_type": "stream",
     "name": "stdout",
     "text": [
      "  10/  64  <train> Loss:2.3482  Acc:0.0227  fbScore:0.5259   LR -> Group0: 6.3194e-06 / \n",
      "  20/  64  <train> Loss:2.3839  Acc:0.0234  fbScore:0.5224   LR -> Group0: 5.9722e-06 / \n",
      "  30/  64  <train> Loss:2.3660  Acc:0.0230  fbScore:0.5131   LR -> Group0: 5.6250e-06 / \n",
      "  40/  64  <train> Loss:2.3482  Acc:0.0227  fbScore:0.5131   LR -> Group0: 5.2778e-06 / \n",
      "  50/  64  <train> Loss:2.3268  Acc:0.0222  fbScore:0.5087   LR -> Group0: 4.9306e-06 / \n",
      "  60/  64  <train> Loss:2.3541  Acc:0.0228  fbScore:0.5130   LR -> Group0: 4.5833e-06 / \n",
      "<train> Loss:2.3734  Acc:0.0232  fbScore:0.5160\n"
     ]
    },
    {
     "output_type": "display_data",
     "data": {
      "application/vnd.jupyter.widget-view+json": {
       "version_major": 2,
       "version_minor": 0,
       "model_id": "68fa78b3d7b348e2ac98ede1dbd32f3c"
      },
      "text/plain": [
       "  0%|          | 0/11 [00:00<?, ?it/s]"
      ]
     },
     "metadata": {}
    },
    {
     "output_type": "stream",
     "name": "stdout",
     "text": [
      "<val> Loss:2.3734  Acc:0.0232  fbScore:0.5266\n",
      "------------------------------------------------------------------------------------------------------------------------------------------------------\n",
      "【Epoch  14/ 15】   LR -> Group0: 4.4444e-06 / \n"
     ]
    },
    {
     "output_type": "display_data",
     "data": {
      "application/vnd.jupyter.widget-view+json": {
       "version_major": 2,
       "version_minor": 0,
       "model_id": "3739ef59ea614d8cb90fc238ab8e8680"
      },
      "text/plain": [
       "  0%|          | 0/64 [00:00<?, ?it/s]"
      ]
     },
     "metadata": {}
    },
    {
     "output_type": "stream",
     "name": "stdout",
     "text": [
      "  10/  64  <train> Loss:2.4731  Acc:0.0254  fbScore:0.5449   LR -> Group0: 4.0972e-06 / \n",
      "  20/  64  <train> Loss:2.4106  Acc:0.0240  fbScore:0.5328   LR -> Group0: 3.7500e-06 / \n",
      "  30/  64  <train> Loss:2.4374  Acc:0.0246  fbScore:0.5394   LR -> Group0: 3.4028e-06 / \n",
      "  40/  64  <train> Loss:2.4330  Acc:0.0245  fbScore:0.5359   LR -> Group0: 3.0556e-06 / \n",
      "  50/  64  <train> Loss:2.3910  Acc:0.0236  fbScore:0.5272   LR -> Group0: 2.7083e-06 / \n",
      "  60/  64  <train> Loss:2.3839  Acc:0.0234  fbScore:0.5249   LR -> Group0: 2.3611e-06 / \n",
      "<train> Loss:2.3734  Acc:0.0232  fbScore:0.5204\n"
     ]
    },
    {
     "output_type": "display_data",
     "data": {
      "application/vnd.jupyter.widget-view+json": {
       "version_major": 2,
       "version_minor": 0,
       "model_id": "15ad417366204df5a1b66f30fc828825"
      },
      "text/plain": [
       "  0%|          | 0/11 [00:00<?, ?it/s]"
      ]
     },
     "metadata": {}
    },
    {
     "output_type": "stream",
     "name": "stdout",
     "text": [
      "<val> Loss:2.3734  Acc:0.0232  fbScore:0.5266\n",
      "------------------------------------------------------------------------------------------------------------------------------------------------------\n",
      "【Epoch  15/ 15】   LR -> Group0: 2.2222e-06 / \n"
     ]
    },
    {
     "output_type": "display_data",
     "data": {
      "application/vnd.jupyter.widget-view+json": {
       "version_major": 2,
       "version_minor": 0,
       "model_id": "6542221956604349b034d0d003ad5c62"
      },
      "text/plain": [
       "  0%|          | 0/64 [00:00<?, ?it/s]"
      ]
     },
     "metadata": {}
    },
    {
     "output_type": "stream",
     "name": "stdout",
     "text": [
      "  10/  64  <train> Loss:2.5088  Acc:0.0262  fbScore:0.5684   LR -> Group0: 1.8750e-06 / \n"
     ]
    },
    {
     "output_type": "error",
     "ename": "KeyboardInterrupt",
     "evalue": "",
     "traceback": [
      "\u001b[0;31m---------------------------------------------------------------------------\u001b[0m",
      "\u001b[0;31mKeyboardInterrupt\u001b[0m                         Traceback (most recent call last)",
      "\u001b[0;32m/tmp/ipykernel_149030/2173213835.py\u001b[0m in \u001b[0;36m<module>\u001b[0;34m\u001b[0m\n\u001b[1;32m     34\u001b[0m     \u001b[0mmodel\u001b[0m \u001b[0;34m=\u001b[0m \u001b[0mnn\u001b[0m\u001b[0;34m.\u001b[0m\u001b[0mDataParallel\u001b[0m\u001b[0;34m(\u001b[0m\u001b[0mmodel\u001b[0m\u001b[0;34m)\u001b[0m\u001b[0;34m\u001b[0m\u001b[0;34m\u001b[0m\u001b[0m\n\u001b[1;32m     35\u001b[0m \u001b[0;34m\u001b[0m\u001b[0m\n\u001b[0;32m---> 36\u001b[0;31m model, history = fit(dataloaders=dataloaders, model=model,\n\u001b[0m\u001b[1;32m     37\u001b[0m               optimizer=optimizer, num_epochs=hps.num_epochs, device=device, batch_size=hps.batch_size, lr_scheduler=lr_scheduler)\n",
      "\u001b[0;32m/tmp/ipykernel_149030/2205420279.py\u001b[0m in \u001b[0;36mfit\u001b[0;34m(dataloaders, model, optimizer, num_epochs, device, batch_size, lr_scheduler)\u001b[0m\n\u001b[1;32m     42\u001b[0m \u001b[0;34m\u001b[0m\u001b[0m\n\u001b[1;32m     43\u001b[0m                     \u001b[0;32mif\u001b[0m \u001b[0mphase\u001b[0m \u001b[0;34m==\u001b[0m \u001b[0;34m'train'\u001b[0m\u001b[0;34m:\u001b[0m\u001b[0;34m\u001b[0m\u001b[0;34m\u001b[0m\u001b[0m\n\u001b[0;32m---> 44\u001b[0;31m                         \u001b[0mloss\u001b[0m\u001b[0;34m.\u001b[0m\u001b[0mbackward\u001b[0m\u001b[0;34m(\u001b[0m\u001b[0;34m)\u001b[0m\u001b[0;34m\u001b[0m\u001b[0;34m\u001b[0m\u001b[0m\n\u001b[0m\u001b[1;32m     45\u001b[0m                         \u001b[0moptimizer\u001b[0m\u001b[0;34m.\u001b[0m\u001b[0mstep\u001b[0m\u001b[0;34m(\u001b[0m\u001b[0;34m)\u001b[0m\u001b[0;34m\u001b[0m\u001b[0;34m\u001b[0m\u001b[0m\n\u001b[1;32m     46\u001b[0m                         \u001b[0mlr_scheduler\u001b[0m\u001b[0;34m.\u001b[0m\u001b[0mstep\u001b[0m\u001b[0;34m(\u001b[0m\u001b[0;34m)\u001b[0m\u001b[0;34m\u001b[0m\u001b[0;34m\u001b[0m\u001b[0m\n",
      "\u001b[0;32m/opt/miniconda3/envs/srws/lib/python3.9/site-packages/torch/_tensor.py\u001b[0m in \u001b[0;36mbackward\u001b[0;34m(self, gradient, retain_graph, create_graph, inputs)\u001b[0m\n\u001b[1;32m    253\u001b[0m                 \u001b[0mcreate_graph\u001b[0m\u001b[0;34m=\u001b[0m\u001b[0mcreate_graph\u001b[0m\u001b[0;34m,\u001b[0m\u001b[0;34m\u001b[0m\u001b[0;34m\u001b[0m\u001b[0m\n\u001b[1;32m    254\u001b[0m                 inputs=inputs)\n\u001b[0;32m--> 255\u001b[0;31m         \u001b[0mtorch\u001b[0m\u001b[0;34m.\u001b[0m\u001b[0mautograd\u001b[0m\u001b[0;34m.\u001b[0m\u001b[0mbackward\u001b[0m\u001b[0;34m(\u001b[0m\u001b[0mself\u001b[0m\u001b[0;34m,\u001b[0m \u001b[0mgradient\u001b[0m\u001b[0;34m,\u001b[0m \u001b[0mretain_graph\u001b[0m\u001b[0;34m,\u001b[0m \u001b[0mcreate_graph\u001b[0m\u001b[0;34m,\u001b[0m \u001b[0minputs\u001b[0m\u001b[0;34m=\u001b[0m\u001b[0minputs\u001b[0m\u001b[0;34m)\u001b[0m\u001b[0;34m\u001b[0m\u001b[0;34m\u001b[0m\u001b[0m\n\u001b[0m\u001b[1;32m    256\u001b[0m \u001b[0;34m\u001b[0m\u001b[0m\n\u001b[1;32m    257\u001b[0m     \u001b[0;32mdef\u001b[0m \u001b[0mregister_hook\u001b[0m\u001b[0;34m(\u001b[0m\u001b[0mself\u001b[0m\u001b[0;34m,\u001b[0m \u001b[0mhook\u001b[0m\u001b[0;34m)\u001b[0m\u001b[0;34m:\u001b[0m\u001b[0;34m\u001b[0m\u001b[0;34m\u001b[0m\u001b[0m\n",
      "\u001b[0;32m/opt/miniconda3/envs/srws/lib/python3.9/site-packages/torch/autograd/__init__.py\u001b[0m in \u001b[0;36mbackward\u001b[0;34m(tensors, grad_tensors, retain_graph, create_graph, grad_variables, inputs)\u001b[0m\n\u001b[1;32m    145\u001b[0m         \u001b[0mretain_graph\u001b[0m \u001b[0;34m=\u001b[0m \u001b[0mcreate_graph\u001b[0m\u001b[0;34m\u001b[0m\u001b[0;34m\u001b[0m\u001b[0m\n\u001b[1;32m    146\u001b[0m \u001b[0;34m\u001b[0m\u001b[0m\n\u001b[0;32m--> 147\u001b[0;31m     Variable._execution_engine.run_backward(\n\u001b[0m\u001b[1;32m    148\u001b[0m         \u001b[0mtensors\u001b[0m\u001b[0;34m,\u001b[0m \u001b[0mgrad_tensors_\u001b[0m\u001b[0;34m,\u001b[0m \u001b[0mretain_graph\u001b[0m\u001b[0;34m,\u001b[0m \u001b[0mcreate_graph\u001b[0m\u001b[0;34m,\u001b[0m \u001b[0minputs\u001b[0m\u001b[0;34m,\u001b[0m\u001b[0;34m\u001b[0m\u001b[0;34m\u001b[0m\u001b[0m\n\u001b[1;32m    149\u001b[0m         allow_unreachable=True, accumulate_grad=True)  # allow_unreachable flag\n",
      "\u001b[0;31mKeyboardInterrupt\u001b[0m: "
     ]
    }
   ],
   "metadata": {}
  },
  {
   "cell_type": "code",
   "execution_count": null,
   "source": [
    "def history_plot(history):\n",
    "    fig = plt.figure(figsize=(15, 10))\n",
    "    \n",
    "    for i, metric in enumerate(['loss', 'acc', 'fbscore']):\n",
    "        ax = fig.add_subplot(4, 1, i+1)\n",
    "        ax.set_title(metric)\n",
    "        for phase in ['train', 'val']:\n",
    "            ax.plot([i+1 for i in range(hps.num_epochs)], history[phase][metric], label=phase, marker='o')\n",
    "        ax.legend()\n",
    "        ax.grid()\n",
    "\n",
    "    ax = fig.add_subplot(4, 1, 4)\n",
    "    ax.set_title('lr')\n",
    "    ax.plot(history['lr'], label='lr')\n",
    "    ax.legend()\n",
    "    ax.grid()\n",
    "\n",
    "    fig.show()\n",
    "\n",
    "history_plot(history)"
   ],
   "outputs": [
    {
     "output_type": "display_data",
     "data": {
      "image/png": "[encoded data removed]",
      "text/plain": [
       "<Figure size 1080x720 with 4 Axes>"
      ]
     },
     "metadata": {
      "needs_background": "light"
     }
    }
   ],
   "metadata": {}
  },
  {
   "cell_type": "markdown",
   "source": [
    "## Evaluate test dataset"
   ],
   "metadata": {}
  },
  {
   "cell_type": "code",
   "execution_count": null,
   "source": [
    "def inference(model, dataloader, device):\n",
    "    \n",
    "    running_loss = 0.0\n",
    "    running_corrects = 0\n",
    "    running_fbeta_score = 0.0\n",
    "\n",
    "    preds_labels_dict = dict(preds = np.empty(0), labels = np.empty(0))\n",
    "\n",
    "    model.eval()\n",
    "\n",
    "    for i, (inputs, labels) in enumerate(tqdm(dataloader)):\n",
    "        input_ids = inputs['input_ids']\n",
    "        attention_mask = inputs['attention_mask']\n",
    "        input_ids = input_ids.to(device)\n",
    "        attention_mask = attention_mask.to(device)\n",
    "        labels = labels.to(device)\n",
    "\n",
    "        with torch.no_grad():\n",
    "            logits_outputs = model(input_ids=input_ids, attention_mask=attention_mask)\n",
    "\n",
    "            pos_weight = torch.tensor([hps.class_1_weight for i in range(input_ids.size(0))]).to(device)\n",
    "            criterion = nn.BCEWithLogitsLoss(pos_weight=pos_weight)\n",
    "            loss = criterion(logits_outputs, labels)\n",
    "\n",
    "            outputs = torch.sigmoid(logits_outputs)\n",
    "            preds = torch.where(outputs >= 0.5, 1, 0)\n",
    "\n",
    "            running_loss += loss.item() + input_ids.size(0)\n",
    "            running_corrects += torch.sum(preds == labels)\n",
    "            running_fbeta_score += fbeta_score(labels.to('cpu').detach().numpy(), preds.to('cpu').detach().numpy(), beta=7.0, zero_division=0)   \n",
    "            preds_labels_dict['preds']  = np.hstack([preds_labels_dict['preds'], preds.to('cpu').detach().numpy().copy()])\n",
    "            preds_labels_dict['labels']  = np.hstack([preds_labels_dict['labels'], labels.to('cpu').detach().numpy().copy()])\n",
    "\n",
    "    loss = running_loss / len(dataloader)\n",
    "    acc = running_corrects / len(dataloader.dataset)\n",
    "    fbscore = running_fbeta_score / len(dataloader)\n",
    "    print(f\"Loss:{loss:.4f}  Acc:{acc:.4f}  fbScore:{fbscore:.4f}\")\n",
    "    return preds_labels_dict\n"
   ],
   "outputs": [],
   "metadata": {}
  },
  {
   "cell_type": "code",
   "execution_count": null,
   "source": [
    "preds_labels_dict = inference(model, dataloader=dataloaders['test'], device=device)"
   ],
   "outputs": [
    {
     "output_type": "display_data",
     "data": {
      "application/vnd.jupyter.widget-view+json": {
       "version_major": 2,
       "version_minor": 0,
       "model_id": "7865737a86af4a0bafdb972dc03d8984"
      },
      "text/plain": [
       "  0%|          | 0/11 [00:00<?, ?it/s]"
      ]
     },
     "metadata": {}
    },
    {
     "output_type": "stream",
     "name": "stdout",
     "text": [
      "Loss:495.4424  Acc:0.9248  fbScore:0.8759\n"
     ]
    }
   ],
   "metadata": {}
  },
  {
   "cell_type": "code",
   "execution_count": null,
   "source": [
    "cm = confusion_matrix(y_true=preds_labels_dict['labels'], y_pred=preds_labels_dict['preds'])\n",
    "cm_df = pd.DataFrame(cm)\n",
    "cm_df.columns = pd.MultiIndex.from_arrays([[\"Predicted\", \"\"], ['label:0', 'label:1']])\n",
    "cm_df.index = pd.MultiIndex.from_arrays([[\"Actual\", \"\"], ['label:0', 'label:1']])\n",
    "display(cm_df)"
   ],
   "outputs": [
    {
     "output_type": "display_data",
     "data": {
      "text/html": [
       "<div>\n",
       "<style scoped>\n",
       "    .dataframe tbody tr th:only-of-type {\n",
       "        vertical-align: middle;\n",
       "    }\n",
       "\n",
       "    .dataframe tbody tr th {\n",
       "        vertical-align: top;\n",
       "    }\n",
       "\n",
       "    .dataframe thead tr th {\n",
       "        text-align: left;\n",
       "    }\n",
       "</style>\n",
       "<table border=\"1\" class=\"dataframe\">\n",
       "  <thead>\n",
       "    <tr>\n",
       "      <th></th>\n",
       "      <th></th>\n",
       "      <th>Predicted</th>\n",
       "      <th></th>\n",
       "    </tr>\n",
       "    <tr>\n",
       "      <th></th>\n",
       "      <th></th>\n",
       "      <th>label:0</th>\n",
       "      <th>label:1</th>\n",
       "    </tr>\n",
       "  </thead>\n",
       "  <tbody>\n",
       "    <tr>\n",
       "      <th>Actual</th>\n",
       "      <th>label:0</th>\n",
       "      <td>4904</td>\n",
       "      <td>399</td>\n",
       "    </tr>\n",
       "    <tr>\n",
       "      <th></th>\n",
       "      <th>label:1</th>\n",
       "      <td>9</td>\n",
       "      <td>117</td>\n",
       "    </tr>\n",
       "  </tbody>\n",
       "</table>\n",
       "</div>"
      ],
      "text/plain": [
       "               Predicted        \n",
       "                 label:0 label:1\n",
       "Actual label:0      4904     399\n",
       "       label:1         9     117"
      ]
     },
     "metadata": {}
    }
   ],
   "metadata": {}
  },
  {
   "cell_type": "code",
   "execution_count": null,
   "source": [
    "preds_labels_dict"
   ],
   "outputs": [
    {
     "output_type": "execute_result",
     "data": {
      "text/plain": [
       "{'preds': array([0., 0., 0., ..., 0., 0., 0.]),\n",
       " 'labels': array([0., 0., 0., ..., 0., 0., 0.])}"
      ]
     },
     "metadata": {},
     "execution_count": 30
    }
   ],
   "metadata": {}
  },
  {
   "cell_type": "code",
   "execution_count": null,
   "source": [
    "fb_score = fbeta_score(y_true=preds_labels_dict['labels'], y_pred=preds_labels_dict['preds'], beta=7.0)\n",
    "print('fb_score : ', fb_score)"
   ],
   "outputs": [
    {
     "output_type": "stream",
     "name": "stdout",
     "text": [
      "fb_score :  0.8744394618834082\n"
     ]
    }
   ],
   "metadata": {}
  },
  {
   "cell_type": "code",
   "execution_count": 26,
   "source": [
    "print(vars(hps))"
   ],
   "outputs": [
    {
     "output_type": "stream",
     "name": "stdout",
     "text": [
      "{'random_seed': 2021, 'data_dir': './data', 'output_dir': './outputs', 'batch_size': 256, 'token_max_length': 256, 'model_name': 'emilyalsentzer/Bio_ClinicalBERT', 'num_epochs': 15, 'class_1_weight': 150, 'initial_lr': 3e-05, 'model_type': 'lstm', 'upsample_pos_n': 1, 'use_col': 'title_abstract', 'train_argument': True}\n"
     ]
    }
   ],
   "metadata": {}
  },
  {
   "cell_type": "code",
   "execution_count": null,
   "source": [],
   "outputs": [],
   "metadata": {}
  }
 ],
 "metadata": {
  "orig_nbformat": 4,
  "language_info": {
   "name": "python",
   "version": "3.9.7",
   "mimetype": "text/x-python",
   "codemirror_mode": {
    "name": "ipython",
    "version": 3
   },
   "pygments_lexer": "ipython3",
   "nbconvert_exporter": "python",
   "file_extension": ".py"
  },
  "kernelspec": {
   "name": "python3",
   "display_name": "Python 3.9.7 64-bit ('srws': conda)"
  },
  "interpreter": {
   "hash": "7f2d3241de56b0fa9ccb32ec1dbd92e097a59df5b8abdff3a1f1414152af23a6"
  }
 },
 "nbformat": 4,
 "nbformat_minor": 2
}